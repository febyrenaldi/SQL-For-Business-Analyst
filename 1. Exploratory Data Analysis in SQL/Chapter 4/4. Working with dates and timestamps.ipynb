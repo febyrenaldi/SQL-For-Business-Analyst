{
 "cells": [
  {
   "attachments": {},
   "cell_type": "markdown",
   "metadata": {},
   "source": [
    "Date comparisons"
   ]
  },
  {
   "cell_type": "code",
   "execution_count": null,
   "metadata": {
    "vscode": {
     "languageId": "sql"
    }
   },
   "outputs": [],
   "source": [
    "-- Count requests created on January 31, 2017\n",
    "SELECT COUNT(*)\n",
    "FROM evanston311\n",
    "WHERE date(date_created) = '2017-01-31';"
   ]
  },
  {
   "cell_type": "code",
   "execution_count": null,
   "metadata": {
    "vscode": {
     "languageId": "sql"
    }
   },
   "outputs": [],
   "source": [
    "-- Count requests created on February 29, 2016\n",
    "SELECT COUNT(*)\n",
    "FROM evanston311\n",
    "WHERE date_created >= '2016-02-29'\n",
    "      AND date_created < '2016-03-01';"
   ]
  },
  {
   "cell_type": "code",
   "execution_count": null,
   "metadata": {
    "vscode": {
     "languageId": "sql"
    }
   },
   "outputs": [],
   "source": [
    "-- Count requests created on March 13, 2017\n",
    "SELECT COUNT(*)\n",
    "FROM evanston311\n",
    "WHERE date_created >= '2017-03-13'\n",
    "  AND date_created < '2017-03-13' :: date + 1;"
   ]
  },
  {
   "attachments": {},
   "cell_type": "markdown",
   "metadata": {},
   "source": [
    "Date arithmetic"
   ]
  },
  {
   "cell_type": "code",
   "execution_count": null,
   "metadata": {
    "vscode": {
     "languageId": "sql"
    }
   },
   "outputs": [],
   "source": [
    "-- Subtract the min date_created from the max\n",
    "SELECT MAX(date_created) - MIN(date_created)\n",
    "FROM evanston311;"
   ]
  },
  {
   "cell_type": "code",
   "execution_count": null,
   "metadata": {
    "vscode": {
     "languageId": "sql"
    }
   },
   "outputs": [],
   "source": [
    "-- How old is the most recent request?\n",
    "SELECT NOW() - MAX(date_created)\n",
    "FROM evanston311"
   ]
  },
  {
   "cell_type": "code",
   "execution_count": null,
   "metadata": {
    "vscode": {
     "languageId": "sql"
    }
   },
   "outputs": [],
   "source": [
    "-- Add 100 days to the current timestamp\n",
    "SELECT NOW() + '100 days' :: INTERVAL;"
   ]
  },
  {
   "cell_type": "code",
   "execution_count": null,
   "metadata": {
    "vscode": {
     "languageId": "sql"
    }
   },
   "outputs": [],
   "source": [
    "-- Select the current timestamp, \n",
    "-- and the current timestamp + 5 minutes\n",
    "SELECT NOW(), NOW() + '5 minutes' :: INTERVAL;"
   ]
  },
  {
   "attachments": {},
   "cell_type": "markdown",
   "metadata": {},
   "source": [
    "Completion time by category"
   ]
  },
  {
   "cell_type": "code",
   "execution_count": null,
   "metadata": {
    "vscode": {
     "languageId": "sql"
    }
   },
   "outputs": [],
   "source": [
    "-- Select the category and the average completion time by category\n",
    "SELECT \n",
    "     category, \n",
    "     AVG(date_completed - date_created) AS completion_time\n",
    "FROM evanston311\n",
    "GROUP BY category\n",
    "-- Order the results\n",
    "Order by completion_time DESC;"
   ]
  },
  {
   "attachments": {},
   "cell_type": "markdown",
   "metadata": {},
   "source": [
    "Date parts"
   ]
  },
  {
   "cell_type": "code",
   "execution_count": null,
   "metadata": {
    "vscode": {
     "languageId": "sql"
    }
   },
   "outputs": [],
   "source": [
    "-- Extract the month from date_created and count requests\n",
    "SELECT \n",
    "  date_part('month', date_created) AS month, \n",
    "  COUNT(*)\n",
    "FROM evanston311\n",
    "-- Limit the date range\n",
    "WHERE date_created >= '2016-01-01'\n",
    "  AND date_created <= '2018-01-01'\n",
    "-- Group by what to get monthly counts?\n",
    "GROUP BY month;"
   ]
  },
  {
   "cell_type": "code",
   "execution_count": null,
   "metadata": {
    "vscode": {
     "languageId": "sql"
    }
   },
   "outputs": [],
   "source": [
    "-- Get the hour and count requests\n",
    "SELECT \n",
    "  date_part('hour',date_created) AS hour,\n",
    "  COUNT(*)\n",
    "FROM evanston311\n",
    "GROUP BY hour\n",
    "-- Order results to select most common\n",
    "ORDER BY COUNT DESC\n",
    "LIMIT 1;"
   ]
  },
  {
   "cell_type": "code",
   "execution_count": null,
   "metadata": {
    "vscode": {
     "languageId": "sql"
    }
   },
   "outputs": [],
   "source": [
    "-- Count requests completed by hour\n",
    "SELECT \n",
    "  date_part('hour',date_completed) AS hour,\n",
    "  COUNT(*)\n",
    "FROM evanston311\n",
    "GROUP BY hour\n",
    "ORDER BY hour;"
   ]
  },
  {
   "attachments": {},
   "cell_type": "markdown",
   "metadata": {},
   "source": [
    "Variation by day of week"
   ]
  },
  {
   "cell_type": "code",
   "execution_count": null,
   "metadata": {
    "vscode": {
     "languageId": "sql"
    }
   },
   "outputs": [],
   "source": [
    "-- Select name of the day of the week the request was created \n",
    "SELECT \n",
    "     to_char(date_created, 'day') AS day, \n",
    "     -- Select avg time between request creation and completion\n",
    "     AVG(date_completed - date_created) AS duration\n",
    "FROM evanston311 \n",
    "-- Group by the name of the day of the week and \n",
    "-- integer value of day of week the request was created\n",
    "GROUP BY day, EXTRACT(DOW FROM date_created)\n",
    "-- Order by integer value of the day of the week \n",
    "-- the request was created\n",
    "ORDER BY EXTRACT(DOW FROM date_created);"
   ]
  },
  {
   "attachments": {},
   "cell_type": "markdown",
   "metadata": {},
   "source": [
    "Date truncation"
   ]
  },
  {
   "cell_type": "code",
   "execution_count": null,
   "metadata": {
    "vscode": {
     "languageId": "sql"
    }
   },
   "outputs": [],
   "source": [
    "-- Aggregate daily counts by month\n",
    "SELECT \n",
    "  date_trunc('month', day) AS month,\n",
    "  AVG(COUNT)\n",
    "-- Subquery to compute daily counts\n",
    "FROM (SELECT \n",
    "          date_trunc('day',date_created) AS day,\n",
    "          COUNT(*) AS COUNT\n",
    "      FROM evanston311\n",
    "      GROUP BY day) AS daily_count\n",
    "GROUP BY month\n",
    "ORDER BY month;"
   ]
  },
  {
   "attachments": {},
   "cell_type": "markdown",
   "metadata": {},
   "source": [
    "Find missing dates"
   ]
  },
  {
   "cell_type": "code",
   "execution_count": null,
   "metadata": {
    "vscode": {
     "languageId": "sql"
    }
   },
   "outputs": [],
   "source": [
    "SELECT day\n",
    "-- 1) Subquery to generate all dates\n",
    "-- from min to max date_created\n",
    "FROM (SELECT \n",
    "          generate_series(MIN(date_created),\n",
    "          MAX(date_created),'1 day')::date AS day\n",
    "      -- What table is date_created in?\n",
    "      FROM evanston311) AS all_dates\n",
    "-- 4) Select dates (day from above) that are NOT IN the subquery\n",
    "WHERE day NOT IN \n",
    "       -- 2) Subquery to select all date_created values as dates\n",
    "       (SELECT date_created::date\n",
    "        FROM evanston311);"
   ]
  },
  {
   "attachments": {},
   "cell_type": "markdown",
   "metadata": {},
   "source": [
    "Custom aggregation periods"
   ]
  },
  {
   "cell_type": "code",
   "execution_count": null,
   "metadata": {
    "vscode": {
     "languageId": "sql"
    }
   },
   "outputs": [],
   "source": [
    "-- Generate 6 month bins covering 2016-01-01 to 2018-06-30\n",
    "\n",
    "-- Create lower bounds of bins\n",
    "SELECT \n",
    "       generate_series('2016-01-01',  -- First bin lower value\n",
    "                       '2018-01-01',  -- Last bin lower value\n",
    "                       '6 months'::interval) AS lower,\n",
    "-- Create upper bounds of bins\n",
    "       generate_series('2016-07-01',  -- First bin upper value\n",
    "                       '2018-12-30',  -- Last bin upper value\n",
    "                       '6 months'::interval) AS upper;"
   ]
  },
  {
   "cell_type": "code",
   "execution_count": null,
   "metadata": {
    "vscode": {
     "languageId": "sql"
    }
   },
   "outputs": [],
   "source": [
    "-- Count number of requests made per day\n",
    "SELECT \n",
    "  day, \n",
    "  COUNT(date_created) AS count\n",
    "-- Use a daily series from 2016-01-01 to 2018-06-30 \n",
    "-- to include days with no requests\n",
    "FROM (SELECT generate_series('2016-01-01',  -- series start date\n",
    "                             '2018-06-30',  -- series end date\n",
    "                             '1 day'::interval)::date AS day) AS daily_series\n",
    "      LEFT JOIN evanston311\n",
    "      -- match day from above (which is a date) to date_created\n",
    "      ON day = date_created::date\n",
    "GROUP BY day;"
   ]
  },
  {
   "cell_type": "code",
   "execution_count": null,
   "metadata": {
    "vscode": {
     "languageId": "sql"
    }
   },
   "outputs": [],
   "source": [
    "-- Bins from Step 1\n",
    "WITH bins AS (\n",
    "      SELECT generate_series('2016-01-01',\n",
    "                            '2018-01-01',\n",
    "                            '6 months'::interval) AS lower,\n",
    "            generate_series('2016-07-01',\n",
    "                            '2018-07-01',\n",
    "                            '6 months'::interval) AS upper),\n",
    "-- Daily counts from Step 2\n",
    "     daily_counts AS (\n",
    "     SELECT day, COUNT(date_created) AS count\n",
    "      FROM (SELECT generate_series('2016-01-01',\n",
    "                                    '2018-06-30',\n",
    "                                    '1 day'::interval)::date AS day) AS daily_series\n",
    "            LEFT JOIN evanston311\n",
    "            ON day = date_created::date\n",
    "      GROUP BY day)\n",
    "-- Select bin bounds \n",
    "SELECT lower, \n",
    "       upper, \n",
    "       -- Compute median of count for each bin\n",
    "       percentile_disc(0.5) WITHIN GROUP (ORDER BY count) AS median\n",
    "  -- Join bins and daily_counts\n",
    "  FROM bins\n",
    "       LEFT JOIN daily_counts\n",
    "       -- Where the day is between the bin bounds\n",
    "       ON day >= lower\n",
    "          AND day < upper\n",
    " -- Group by bin bounds\n",
    " GROUP BY lower,upper\n",
    " ORDER BY lower;"
   ]
  },
  {
   "attachments": {},
   "cell_type": "markdown",
   "metadata": {},
   "source": [
    "Monthly average with missing dates"
   ]
  },
  {
   "cell_type": "code",
   "execution_count": null,
   "metadata": {
    "vscode": {
     "languageId": "sql"
    }
   },
   "outputs": [],
   "source": [
    "-- generate series with all days from 2016-01-01 to 2018-06-30\n",
    "WITH all_days AS \n",
    "     (SELECT generate_series('2016-01-01',\n",
    "                             '2018-06-30',\n",
    "                             '1 day'::interval) AS date),\n",
    "\n",
    "-- Subquery to compute daily counts\n",
    "daily_count AS \n",
    "     (SELECT date_trunc('day', date_created) AS day,\n",
    "             COUNT(*) AS count\n",
    "     FROM evanston311\n",
    "     GROUP BY day)\n",
    "-- Aggregate daily counts by month using date_trunc\n",
    "SELECT date_trunc('month', date) AS month,\n",
    "       -- Use coalesce to replace NULL count values with 0\n",
    "       AVG(coalesce(count, 0)) AS average\n",
    "  FROM all_days\n",
    "       LEFT JOIN daily_count\n",
    "       -- Joining condition\n",
    "       ON all_days.date = daily_count.day\n",
    " GROUP BY month\n",
    " ORDER BY month; "
   ]
  },
  {
   "attachments": {},
   "cell_type": "markdown",
   "metadata": {},
   "source": [
    "Longest gap"
   ]
  },
  {
   "cell_type": "code",
   "execution_count": null,
   "metadata": {
    "vscode": {
     "languageId": "sql"
    }
   },
   "outputs": [],
   "source": [
    "-- Compute the gaps\n",
    "WITH request_gaps AS (\n",
    "  SELECT \n",
    "    date_created,\n",
    "    -- lead or lag\n",
    "    lag(date_created) OVER (ORDER BY date_created) AS previous,\n",
    "    -- compute gap as date_created minus lead or lag\n",
    "    date_created - lag(date_created) OVER (ORDER BY date_created) AS gap\n",
    "  FROM evanston311)\n",
    "-- Select the row with the maximum gap\n",
    "SELECT *\n",
    "FROM request_gaps\n",
    "-- Subquery to select maximum gap from request_gaps\n",
    "WHERE gap = (SELECT max(gap)\n",
    "             FROM request_gaps);"
   ]
  },
  {
   "attachments": {},
   "cell_type": "markdown",
   "metadata": {},
   "source": [
    "Rats!"
   ]
  },
  {
   "cell_type": "code",
   "execution_count": null,
   "metadata": {
    "vscode": {
     "languageId": "sql"
    }
   },
   "outputs": [],
   "source": [
    "-- Truncate the time to complete requests to the day\n",
    "SELECT \n",
    "  date_trunc('day',date_completed - date_created) AS completion_time,\n",
    "-- Count requests with each truncated time\n",
    "  COUNT(*)\n",
    "FROM evanston311\n",
    "-- Where category is rats\n",
    "WHERE category = 'Rodents- Rats'\n",
    "-- Group and order by the variable of interest\n",
    "GROUP BY completion_time\n",
    "ORDER BY completion_time;"
   ]
  },
  {
   "cell_type": "code",
   "execution_count": null,
   "metadata": {
    "vscode": {
     "languageId": "sql"
    }
   },
   "outputs": [],
   "source": [
    "SELECT \n",
    "  category, \n",
    "  -- Compute average completion time per category\n",
    "  AVG(date_completed - date_created) AS avg_completion_time\n",
    "FROM evanston311\n",
    "-- Where completion time is less than the 95th percentile value\n",
    "-- Compute the 95th percentile of completion time in a subquery\n",
    "WHERE date_completed - date_created < \n",
    "      (SELECT percentile_disc(0.95) WITHIN GROUP (ORDER BY date_completed - date_created)\n",
    "      FROM evanston311)\n",
    "GROUP BY category\n",
    "-- Order the results\n",
    "ORDER BY avg_completion_time DESC;"
   ]
  },
  {
   "cell_type": "code",
   "execution_count": null,
   "metadata": {
    "vscode": {
     "languageId": "sql"
    }
   },
   "outputs": [],
   "source": [
    "-- Compute correlation (corr) between \n",
    "-- avg_completion time and count from the subquery\n",
    "SELECT corr(avg_completion, count)\n",
    "  -- Convert date_created to its month with date_trunc\n",
    "  FROM (SELECT date_trunc('month', date_created) AS month, \n",
    "               -- Compute average completion time in number of seconds           \n",
    "               AVG(EXTRACT(epoch FROM date_completed - date_created)) AS avg_completion, \n",
    "               -- Count requests per month\n",
    "               count(*) AS count\n",
    "          FROM evanston311\n",
    "         -- Limit to rodents\n",
    "         WHERE category='Rodents- Rats' \n",
    "         -- Group by month, created above\n",
    "         GROUP BY month) \n",
    "         -- Required alias for subquery \n",
    "         AS monthly_avgs;"
   ]
  },
  {
   "cell_type": "code",
   "execution_count": null,
   "metadata": {
    "vscode": {
     "languageId": "sql"
    }
   },
   "outputs": [],
   "source": [
    "-- Compute monthly counts of requests created\n",
    "WITH created AS (\n",
    "       SELECT date_trunc('month',date_created) AS month,\n",
    "              count(*) AS created_count\n",
    "         FROM evanston311\n",
    "        WHERE category='Rodents- Rats'\n",
    "        GROUP BY month),\n",
    "-- Compute monthly counts of requests completed\n",
    "      completed AS (\n",
    "       SELECT date_trunc('month',date_completed) AS month,\n",
    "              count(*) AS completed_count\n",
    "         FROM evanston311\n",
    "        WHERE category='Rodents- Rats'\n",
    "        GROUP BY month)\n",
    "-- Join monthly created and completed counts\n",
    "SELECT created.month, \n",
    "       created_count, \n",
    "       completed_count\n",
    "  FROM created\n",
    "       INNER JOIN completed\n",
    "       ON created.month=completed.month\n",
    " ORDER BY created.month;"
   ]
  }
 ],
 "metadata": {
  "language_info": {
   "name": "python"
  },
  "orig_nbformat": 4
 },
 "nbformat": 4,
 "nbformat_minor": 2
}
