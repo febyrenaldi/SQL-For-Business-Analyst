{
 "cells": [
  {
   "attachments": {},
   "cell_type": "markdown",
   "metadata": {},
   "source": [
    "Count missing values"
   ]
  },
  {
   "cell_type": "code",
   "execution_count": null,
   "metadata": {
    "vscode": {
     "languageId": "sql"
    }
   },
   "outputs": [],
   "source": [
    "-- Select the count of the number of rows\n",
    "SELECT COUNT(*)\n",
    "  FROM fortune500;"
   ]
  },
  {
   "cell_type": "code",
   "execution_count": null,
   "metadata": {
    "vscode": {
     "languageId": "sql"
    }
   },
   "outputs": [],
   "source": [
    "-- Select the count of ticker, \n",
    "-- subtract from the total number of rows, \n",
    "-- and alias as missing\n",
    "SELECT\n",
    "  COUNT(*) - COUNT(ticker) AS missing\n",
    "FROM fortune500;"
   ]
  },
  {
   "cell_type": "code",
   "execution_count": null,
   "metadata": {
    "vscode": {
     "languageId": "sql"
    }
   },
   "outputs": [],
   "source": [
    "-- Select the count of profits_change, \n",
    "-- subtract from total number of rows, and alias as missing\n",
    "SELECT\n",
    "  COUNT(*) - COUNT(profits_change) AS missing\n",
    "FROM fortune500;"
   ]
  },
  {
   "cell_type": "code",
   "execution_count": null,
   "metadata": {
    "vscode": {
     "languageId": "sql"
    }
   },
   "outputs": [],
   "source": [
    "-- Select the count of industry, \n",
    "-- subtract from total number of rows, and alias as missing\n",
    "SELECT\n",
    "  COUNT(*) - COUNT(industry) AS missing\n",
    "FROM fortune500;"
   ]
  },
  {
   "attachments": {},
   "cell_type": "markdown",
   "metadata": {},
   "source": [
    "Join tables"
   ]
  },
  {
   "cell_type": "code",
   "execution_count": null,
   "metadata": {
    "vscode": {
     "languageId": "sql"
    }
   },
   "outputs": [],
   "source": [
    "SELECT company.name\n",
    "-- Table(s) to select from\n",
    "FROM company\n",
    "INNER JOIN fortune500\n",
    "ON company.ticker = fortune500.ticker;"
   ]
  },
  {
   "attachments": {},
   "cell_type": "markdown",
   "metadata": {},
   "source": [
    "Read an entity relationship diagram"
   ]
  },
  {
   "cell_type": "code",
   "execution_count": null,
   "metadata": {
    "vscode": {
     "languageId": "sql"
    }
   },
   "outputs": [],
   "source": [
    "-- Count the number of tags with each type\n",
    "SELECT \n",
    "  type, \n",
    "  COUNT(*) AS count\n",
    "FROM tag_type\n",
    " -- To get the count for each type, what do you need to do?\n",
    "GROUP BY type\n",
    " -- Order the results with the most common\n",
    " -- tag types listed first\n",
    "ORDER BY type DESC;"
   ]
  },
  {
   "cell_type": "code",
   "execution_count": null,
   "metadata": {
    "vscode": {
     "languageId": "sql"
    }
   },
   "outputs": [],
   "source": [
    "-- Select the 3 columns desired\n",
    "SELECT \n",
    "     company.name, \n",
    "     tag_type.tag, \n",
    "     tag_type.type\n",
    "FROM company\n",
    "-- Join to the tag_company table\n",
    "INNER JOIN tag_company \n",
    "     ON company.Id = tag_company.company_id\n",
    "-- Join to the tag_type table\n",
    "INNER JOIN tag_type\n",
    "     ON tag_company.tag = tag_type.tag\n",
    "-- Filter to most common type\n",
    "WHERE type='cloud';"
   ]
  },
  {
   "attachments": {},
   "cell_type": "markdown",
   "metadata": {},
   "source": [
    "Coalesce"
   ]
  },
  {
   "cell_type": "code",
   "execution_count": null,
   "metadata": {
    "vscode": {
     "languageId": "sql"
    }
   },
   "outputs": [],
   "source": [
    "-- Use coalesce\n",
    "SELECT \n",
    "  COALESCE(industry, sector, 'Unknown') AS industry2,\n",
    "  -- Don't forget to count!\n",
    "  COUNT(*) \n",
    "FROM fortune500 \n",
    "-- Group by what? (What are you counting by?)\n",
    "GROUP BY industry2\n",
    "-- Order results to see most common first\n",
    "ORDER BY COUNT DESC\n",
    "-- Limit results to get just the one value you want\n",
    "LIMIT 1;"
   ]
  },
  {
   "attachments": {},
   "cell_type": "markdown",
   "metadata": {},
   "source": [
    "Coalesce with a self-join"
   ]
  },
  {
   "cell_type": "code",
   "execution_count": null,
   "metadata": {
    "vscode": {
     "languageId": "sql"
    }
   },
   "outputs": [],
   "source": [
    "SELECT\n",
    "  company_original.parent_id,\n",
    "  company_parent.id,\n",
    "  company_original.name,\n",
    "  company_original.ticker AS original_ticker,\n",
    "  company_parent.ticker AS parent_ticker,\n",
    "  COALESCE (company_original.ticker,company_parent.ticker) AS coalesce_result,\n",
    "  fortune500.ticker AS fortune500_ticker,\n",
    "  fortune500.title,\n",
    "  rank\n",
    "-- Start with original company information\n",
    "FROM company AS company_original\n",
    "-- Join to another copy of company with parent\n",
    "-- company information\n",
    "LEFT JOIN company AS company_parent\n",
    "ON company_original.parent_id = company_parent.id\n",
    "-- Join to fortune500, only keep rows that match\n",
    "INNER JOIN fortune500\n",
    "-- Use parent ticker if there is one, \n",
    "-- otherwise original ticker\n",
    "ON COALESCE (company_original.ticker,\n",
    "              company_parent.ticker) = fortune500.ticker\n",
    "-- For clarity, order by rank\n",
    "ORDER BY rank;"
   ]
  },
  {
   "attachments": {},
   "cell_type": "markdown",
   "metadata": {},
   "source": [
    "Effects of casting"
   ]
  },
  {
   "cell_type": "code",
   "execution_count": null,
   "metadata": {
    "vscode": {
     "languageId": "sql"
    }
   },
   "outputs": [],
   "source": [
    "-- Select the original value\n",
    "SELECT profits_change, \n",
    "        -- Cast profits_change\n",
    "       CAST(profits_change AS integer) AS profits_change_int\n",
    "FROM fortune500;"
   ]
  },
  {
   "cell_type": "code",
   "execution_count": null,
   "metadata": {
    "vscode": {
     "languageId": "sql"
    }
   },
   "outputs": [],
   "source": [
    "-- Divide 10 by 3\n",
    "SELECT 10/3, \n",
    "       -- Cast 10 as numeric and divide by 3\n",
    "       10::numeric/3;"
   ]
  },
  {
   "cell_type": "code",
   "execution_count": null,
   "metadata": {
    "vscode": {
     "languageId": "sql"
    }
   },
   "outputs": [],
   "source": [
    "SELECT '3.2'::numeric,\n",
    "       '-123'::numeric,\n",
    "       '1e3'::numeric,\n",
    "       '1e-3'::numeric,\n",
    "       '02314'::numeric,\n",
    "       '0002'::numeric;"
   ]
  },
  {
   "attachments": {},
   "cell_type": "markdown",
   "metadata": {},
   "source": [
    "Summarize the distribution of numeric values"
   ]
  },
  {
   "cell_type": "code",
   "execution_count": null,
   "metadata": {
    "vscode": {
     "languageId": "sql"
    }
   },
   "outputs": [],
   "source": [
    "-- Select the count of each value of revenues_change\n",
    "SELECT \n",
    "  revenues_change,\n",
    "  COUNT(*)  \n",
    "FROM fortune500\n",
    "GROUP BY revenues_change\n",
    "-- Order by the values of revenues_change\n",
    "ORDER BY revenues_change ASC;"
   ]
  },
  {
   "cell_type": "code",
   "execution_count": null,
   "metadata": {
    "vscode": {
     "languageId": "sql"
    }
   },
   "outputs": [],
   "source": [
    "-- Select the count of each revenues_change integer value\n",
    "SELECT \n",
    "  revenues_change::integer, \n",
    "  COUNT(*)\n",
    "FROM fortune500\n",
    "GROUP BY revenues_change::integer\n",
    "-- order by the values of revenues_change\n",
    "ORDER BY revenues_change;"
   ]
  },
  {
   "cell_type": "code",
   "execution_count": null,
   "metadata": {
    "vscode": {
     "languageId": "sql"
    }
   },
   "outputs": [],
   "source": [
    "-- Count rows \n",
    "SELECT COUNT(*)\n",
    "FROM fortune500\n",
    "-- Where...\n",
    "WHERE revenues_change > 0;"
   ]
  }
 ],
 "metadata": {
  "language_info": {
   "name": "python"
  },
  "orig_nbformat": 4
 },
 "nbformat": 4,
 "nbformat_minor": 2
}
