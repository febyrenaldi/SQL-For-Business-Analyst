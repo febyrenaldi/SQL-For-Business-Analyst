{
 "cells": [
  {
   "attachments": {},
   "cell_type": "markdown",
   "metadata": {},
   "source": [
    "Division"
   ]
  },
  {
   "cell_type": "code",
   "execution_count": null,
   "metadata": {
    "vscode": {
     "languageId": "sql"
    }
   },
   "outputs": [],
   "source": [
    "-- Select average revenue per employee by sector\n",
    "SELECT \n",
    "     sector, \n",
    "     AVG(revenues/employees::numeric) AS avg_rev_employee\n",
    "FROM fortune500\n",
    "GROUP BY sector\n",
    " -- Use the column alias to order the results\n",
    "ORDER BY avg_rev_employee;"
   ]
  },
  {
   "attachments": {},
   "cell_type": "markdown",
   "metadata": {},
   "source": [
    "Explore with division"
   ]
  },
  {
   "cell_type": "code",
   "execution_count": null,
   "metadata": {
    "vscode": {
     "languageId": "sql"
    }
   },
   "outputs": [],
   "source": [
    "-- Divide unanswered_count by question_count\n",
    "SELECT \n",
    "     unanswered_count/question_count::numeric AS computed_pct, \n",
    "     -- What are you comparing the above quantity to?\n",
    "     unanswered_pct\n",
    "FROM stackoverflow\n",
    "-- Select rows where question_count is not 0\n",
    "WHERE question_count != 0\n",
    "LIMIT 10;"
   ]
  },
  {
   "attachments": {},
   "cell_type": "markdown",
   "metadata": {},
   "source": [
    "Summarize numeric columns"
   ]
  },
  {
   "cell_type": "code",
   "execution_count": null,
   "metadata": {
    "vscode": {
     "languageId": "sql"
    }
   },
   "outputs": [],
   "source": [
    "-- Select min, avg, max, and stddev of fortune500 profits\n",
    "SELECT \n",
    "  min(profits),\n",
    "  avg(profits),\n",
    "  max(profits),\n",
    "  stddev(profits)\n",
    "FROM fortune500;"
   ]
  },
  {
   "cell_type": "code",
   "execution_count": null,
   "metadata": {
    "vscode": {
     "languageId": "sql"
    }
   },
   "outputs": [],
   "source": [
    "-- Select sector and summary measures of fortune500 profits\n",
    "SELECT \n",
    "  sector,\n",
    "  min(profits),\n",
    "  avg(profits) AS avg,\n",
    "  max(profits),\n",
    "  stddev(profits)\n",
    "FROM fortune500\n",
    "-- What to group by?\n",
    "GROUP BY sector\n",
    "-- Order by the average profits\n",
    "ORDER BY avg;"
   ]
  },
  {
   "attachments": {},
   "cell_type": "markdown",
   "metadata": {},
   "source": [
    "Summarize group statistics"
   ]
  },
  {
   "cell_type": "code",
   "execution_count": null,
   "metadata": {
    "vscode": {
     "languageId": "sql"
    }
   },
   "outputs": [],
   "source": [
    "-- Compute standard deviation of maximum values\n",
    "SELECT \n",
    "    min(maxval),\n",
    "    max(maxval),\n",
    "    avg(maxval),\n",
    "    stddev(maxval)\n",
    "  -- Subquery to compute max of question_count by tag\n",
    "FROM (\n",
    "    SELECT max(question_count) AS maxval\n",
    "    FROM stackoverflow\n",
    "    -- Compute max by...\n",
    "    GROUP BY tag) AS max_results; -- alias for subquery"
   ]
  },
  {
   "attachments": {},
   "cell_type": "markdown",
   "metadata": {},
   "source": [
    "Truncate"
   ]
  },
  {
   "cell_type": "code",
   "execution_count": null,
   "metadata": {
    "vscode": {
     "languageId": "sql"
    }
   },
   "outputs": [],
   "source": [
    "-- Truncate employees\n",
    "SELECT \n",
    "  trunc(employees, -5) AS employee_bin,\n",
    "  -- Count number of companies with each truncated value\n",
    "  COUNT(*)\n",
    "FROM fortune500\n",
    "-- Use alias to group\n",
    "GROUP BY employee_bin\n",
    "-- Use alias to order\n",
    "ORDER BY employee_bin;"
   ]
  },
  {
   "cell_type": "code",
   "execution_count": null,
   "metadata": {
    "vscode": {
     "languageId": "sql"
    }
   },
   "outputs": [],
   "source": [
    "-- Truncate employees\n",
    "SELECT \n",
    "  trunc(employees, -4) AS employee_bin,\n",
    "  -- Count number of companies with each truncated value\n",
    "  COUNT(*)\n",
    "FROM fortune500\n",
    "-- Limit to which companies?\n",
    "WHERE employees < 100000\n",
    "-- Use alias to group\n",
    "GROUP BY employee_bin\n",
    "-- Use alias to order\n",
    "ORDER BY employee_bin;"
   ]
  },
  {
   "attachments": {},
   "cell_type": "markdown",
   "metadata": {},
   "source": [
    "Generate series"
   ]
  },
  {
   "cell_type": "code",
   "execution_count": null,
   "metadata": {
    "vscode": {
     "languageId": "sql"
    }
   },
   "outputs": [],
   "source": [
    "-- Select the min and max of question_count\n",
    "SELECT \n",
    "     min(question_count), \n",
    "     max(question_count)\n",
    "-- From what table?\n",
    "FROM stackoverflow\n",
    "-- For tag dropbox\n",
    "WHERE tag =  'dropbox';"
   ]
  },
  {
   "cell_type": "code",
   "execution_count": null,
   "metadata": {
    "vscode": {
     "languageId": "sql"
    }
   },
   "outputs": [],
   "source": [
    "-- Create lower and upper bounds of bins\n",
    "SELECT \n",
    "    generate_series(2200, 3050, 50) AS lower,\n",
    "    generate_series(2250, 3100, 50) AS upper;"
   ]
  },
  {
   "cell_type": "code",
   "execution_count": null,
   "metadata": {
    "vscode": {
     "languageId": "sql"
    }
   },
   "outputs": [],
   "source": [
    "-- Bins created in Step 2\n",
    "WITH bins AS (\n",
    "  SELECT generate_series(2200, 3050, 50) AS lower,\n",
    "  generate_series(2250, 3100, 50) AS upper),\n",
    "  -- Subset stackoverflow to just tag dropbox (Step 1)\n",
    "dropbox AS (\n",
    "  SELECT question_count \n",
    "  FROM stackoverflow\n",
    "  WHERE tag='dropbox')\n",
    "\n",
    "-- Select columns for result\n",
    "-- What column are you counting to summarize?\n",
    "SELECT \n",
    "  lower, \n",
    "  upper, \n",
    "  COUNT(question_count) \n",
    "FROM bins  -- Created above\n",
    "-- Join to dropbox (created above), \n",
    "-- keeping all rows from the bins table in the join\n",
    "LEFT JOIN dropbox\n",
    "-- Compare question_count to lower and upper\n",
    "  ON question_count >= lower \n",
    "  AND question_count < upper\n",
    "-- Group by lower and upper to count values in each bin\n",
    "GROUP BY lower, upper\n",
    "-- Order by lower to put bins in order\n",
    "ORDER BY lower;"
   ]
  },
  {
   "attachments": {},
   "cell_type": "markdown",
   "metadata": {},
   "source": [
    "Correlation"
   ]
  },
  {
   "cell_type": "code",
   "execution_count": null,
   "metadata": {
    "vscode": {
     "languageId": "sql"
    }
   },
   "outputs": [],
   "source": [
    "-- Correlation between revenues and profit\n",
    "SELECT \n",
    "        CORR(revenues, profits) AS rev_profits,\n",
    "        -- Correlation between revenues and assets\n",
    "        CORR(revenues, assets) AS rev_assets,\n",
    "        -- Correlation between revenues and equity\n",
    "        CORR(revenues, equity) AS rev_equity \n",
    "FROM fortune500;"
   ]
  },
  {
   "attachments": {},
   "cell_type": "markdown",
   "metadata": {},
   "source": [
    "Mean and Median"
   ]
  },
  {
   "cell_type": "code",
   "execution_count": null,
   "metadata": {
    "vscode": {
     "languageId": "sql"
    }
   },
   "outputs": [],
   "source": [
    "-- What groups are you computing statistics by?\n",
    "SELECT \n",
    "  sector,\n",
    "  -- Select the mean of assets with the avg function\n",
    "  AVG(assets) AS mean,\n",
    "  -- Select the median\n",
    "  PERCENTILE_DISC(0.5) WITHIN GROUP (ORDER BY assets) AS median\n",
    "FROM fortune500\n",
    "-- Computing statistics for each what?\n",
    "GROUP BY sector\n",
    "-- Order results by a value of interest\n",
    "ORDER BY mean;"
   ]
  },
  {
   "attachments": {},
   "cell_type": "markdown",
   "metadata": {},
   "source": [
    "Create a temp table"
   ]
  },
  {
   "cell_type": "code",
   "execution_count": null,
   "metadata": {
    "vscode": {
     "languageId": "sql"
    }
   },
   "outputs": [],
   "source": [
    "-- To clear table if it already exists;\n",
    "-- fill in name of temp table\n",
    "DROP TABLE IF EXISTS profit80;\n",
    "\n",
    "-- Create the temporary table\n",
    "CREATE TEMP TABLE profit80 AS\n",
    "  -- Select the two columns you need; alias as needed\n",
    "  SELECT \n",
    "    sector, \n",
    "    percentile_disc(0.8) WITHIN GROUP (ORDER BY profits) AS pct80\n",
    "    -- What table are you getting the data from?\n",
    "  FROM fortune500\n",
    "   -- What do you need to group by?\n",
    "  GROUP BY sector;\n",
    "\n",
    "-- See what you created: select all columns and rows \n",
    "-- from the table you created\n",
    "SELECT * \n",
    "FROM profit80;"
   ]
  },
  {
   "cell_type": "code",
   "execution_count": null,
   "metadata": {
    "vscode": {
     "languageId": "sql"
    }
   },
   "outputs": [],
   "source": [
    "-- Code from previous step\n",
    "DROP TABLE IF EXISTS profit80;\n",
    "\n",
    "CREATE TEMP TABLE profit80 AS\n",
    "SELECT \n",
    "       sector, \n",
    "       percentile_disc(0.8) WITHIN GROUP (ORDER BY profits) AS pct80\n",
    "FROM fortune500\n",
    "GROUP BY sector;\n",
    "\n",
    "-- Select columns, aliasing as needed\n",
    "SELECT \n",
    "       title, \n",
    "       fortune500.sector, \n",
    "       profits, profits/pct80 AS ratio\n",
    "-- What tables do you need to join?  \n",
    "FROM fortune500\n",
    "LEFT JOIN profit80\n",
    "-- How are the tables joined?\n",
    "       ON fortune500.sector=profit80.sector\n",
    "-- What rows do you want to select?\n",
    "WHERE profits > pct80;"
   ]
  },
  {
   "attachments": {},
   "cell_type": "markdown",
   "metadata": {},
   "source": [
    "Create a temp table to simplify a query"
   ]
  },
  {
   "cell_type": "code",
   "execution_count": null,
   "metadata": {
    "vscode": {
     "languageId": "sql"
    }
   },
   "outputs": [],
   "source": [
    "-- To clear table if it already exists\n",
    "DROP TABLE IF EXISTS startdates;\n",
    "\n",
    "-- Create temp table syntax\n",
    "CREATE TEMP TABLE startdates AS\n",
    "-- Compute the minimum date for each what?\n",
    "SELECT \n",
    "  tag,\n",
    "  min(date) AS mindate\n",
    "FROM stackoverflow\n",
    "-- What do you need to compute the min date for each tag?\n",
    "GROUP BY tag;\n",
    " \n",
    "-- Look at the table you created\n",
    "SELECT * \n",
    "FROM startdates;"
   ]
  },
  {
   "cell_type": "code",
   "execution_count": null,
   "metadata": {
    "vscode": {
     "languageId": "sql"
    }
   },
   "outputs": [],
   "source": [
    "-- To clear table if it already exists\n",
    "DROP TABLE IF EXISTS startdates;\n",
    "\n",
    "CREATE TEMP TABLE startdates AS\n",
    "  SELECT \n",
    "    tag, \n",
    "    min(date) AS mindate\n",
    "  FROM stackoverflow\n",
    "  GROUP BY tag;\n",
    " \n",
    "-- Select tag (Remember the table name!) and mindate\n",
    "SELECT \n",
    "  startdates.tag, \n",
    "  mindate, \n",
    "  -- Select question count on the min and max days\n",
    "  so_min.question_count AS min_date_question_count,\n",
    "  so_max.question_count AS max_date_question_count,\n",
    "  -- Compute the change in question_count (max- min)\n",
    "  so_max.question_count - so_min.question_count AS change\n",
    "FROM startdates\n",
    "-- Join startdates to stackoverflow with alias so_min\n",
    "INNER JOIN stackoverflow AS so_min\n",
    "-- What needs to match between tables?\n",
    "  ON startdates.tag = so_min.tag\n",
    "  AND startdates.mindate = so_min.date\n",
    "-- Join to stackoverflow again with alias so_max\n",
    "INNER JOIN stackoverflow AS so_max\n",
    "  -- Again, what needs to match between tables?\n",
    "  ON startdates.tag = so_max.tag\n",
    "  AND so_max.date = '2018-09-25';"
   ]
  },
  {
   "attachments": {},
   "cell_type": "markdown",
   "metadata": {},
   "source": [
    "Insert into a temp table"
   ]
  },
  {
   "cell_type": "code",
   "execution_count": null,
   "metadata": {
    "vscode": {
     "languageId": "sql"
    }
   },
   "outputs": [],
   "source": [
    "DROP TABLE IF EXISTS correlations;\n",
    "\n",
    "-- Create temp table \n",
    "CREATE TEMP TABLE correlations AS\n",
    "-- Select each correlation\n",
    "SELECT \n",
    "  'profits'::varchar AS measure,\n",
    "  -- Compute correlations\n",
    "  CORR(profits, profits) AS profits,\n",
    "  CORR(profits, profits_change) AS profits_change,\n",
    "  CORR(profits, revenues_change) AS revenues_change\n",
    "FROM fortune500;"
   ]
  },
  {
   "cell_type": "code",
   "execution_count": null,
   "metadata": {
    "vscode": {
     "languageId": "sql"
    }
   },
   "outputs": [],
   "source": [
    "DROP TABLE IF EXISTS correlations;\n",
    "\n",
    "CREATE TEMP TABLE correlations AS\n",
    "  SELECT \n",
    "    'profits'::varchar AS measure,\n",
    "    CORR(profits, profits) AS profits,\n",
    "    CORR(profits, profits_change) AS profits_change,\n",
    "    CORR(profits, revenues_change) AS revenues_change\n",
    "  FROM fortune500;\n",
    "\n",
    "-- Add a row for profits_change\n",
    "-- Insert into what table?\n",
    "INSERT INTO correlations\n",
    "-- Follow the pattern of the select statement above\n",
    "-- Using profits_change instead of profits\n",
    "SELECT \n",
    "  'profits_change'::varchar AS measure,\n",
    "  CORR(profits_change, profits) AS profits,\n",
    "  CORR(profits_change, profits_change) AS profits_change,\n",
    "  CORR(profits_change, revenues_change) AS revenues_change\n",
    "FROM fortune500;\n",
    "\n",
    "-- Repeat the above, but for revenues_change\n",
    "INSERT INTO correlations\n",
    "SELECT \n",
    "  'revenues_change'::varchar AS measure,\n",
    "  CORR(revenues_change, profits) AS profits,\n",
    "  CORR(revenues_change, profits_change) AS profits_change,\n",
    "  CORR(revenues_change, revenues_change) AS revenues_change\n",
    "FROM fortune500;"
   ]
  },
  {
   "cell_type": "code",
   "execution_count": null,
   "metadata": {
    "vscode": {
     "languageId": "sql"
    }
   },
   "outputs": [],
   "source": [
    "DROP TABLE IF EXISTS correlations;\n",
    "\n",
    "CREATE TEMP TABLE correlations AS\n",
    "SELECT \n",
    "  'profits'::varchar AS measure,\n",
    "  CORR(profits, profits) AS profits,\n",
    "  CORR(profits, profits_change) AS profits_change,\n",
    "  CORR(profits, revenues_change) AS revenues_change\n",
    "FROM fortune500;\n",
    "\n",
    "INSERT INTO correlations\n",
    "SELECT \n",
    "  'profits_change'::varchar AS measure,\n",
    "  CORR(profits_change, profits) AS profits,\n",
    "  CORR(profits_change, profits_change) AS profits_change,\n",
    "  CORR(profits_change, revenues_change) AS revenues_change\n",
    "FROM fortune500;\n",
    "\n",
    "INSERT INTO correlations\n",
    "SELECT \n",
    "  'revenues_change'::varchar AS measure,\n",
    "  CORR(revenues_change, profits) AS profits,\n",
    "  CORR(revenues_change, profits_change) AS profits_change,\n",
    "  CORR(revenues_change, revenues_change) AS revenues_change\n",
    "FROM fortune500;\n",
    "\n",
    "-- Select each column, rounding the correlations\n",
    "SELECT \n",
    "  measure, \n",
    "  ROUND(profits::numeric, 2) AS profits,\n",
    "  ROUND(profits_change::numeric, 2) AS profits_change,\n",
    "  ROUND(revenues_change::numeric, 2) AS revenues_change\n",
    "FROM correlations;"
   ]
  }
 ],
 "metadata": {
  "language_info": {
   "name": "python"
  },
  "orig_nbformat": 4
 },
 "nbformat": 4,
 "nbformat_minor": 2
}
