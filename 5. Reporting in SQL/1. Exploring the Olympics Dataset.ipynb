{
  "metadata": {
    "language_info": {
      "codemirror_mode": "sql",
      "file_extension": "",
      "mimetype": "",
      "name": "sql",
      "version": "3.32.3"
    },
    "kernelspec": {
      "name": "SQLite",
      "display_name": "SQLite",
      "language": "sql"
    }
  },
  "nbformat_minor": 4,
  "nbformat": 4,
  "cells": [
    {
      "cell_type": "markdown",
      "source": "Building the base report",
      "metadata": {}
    },
    {
      "cell_type": "code",
      "source": "-- Query the sport and distinct number of athletes\nSELECT \n    sport, \n    COUNT(DISTINCT athlete_id) AS athletes\nFROM summer_games\nGROUP BY sport\n-- Only include the 3 sports with the most athletes\nORDER BY athletes DESC\nLIMIT 3;",
      "metadata": {},
      "execution_count": null,
      "outputs": []
    },
    {
      "cell_type": "markdown",
      "source": "Athletes vs events by sport",
      "metadata": {}
    },
    {
      "cell_type": "code",
      "source": "-- Query sport, events, and athletes from summer_games\nSELECT \n    sport, \n    COUNT(DISTINCT event) AS events, \n    COUNT(DISTINCT athlete_id) AS athletes\nFROM summer_games\nGROUP BY sport;",
      "metadata": {},
      "execution_count": null,
      "outputs": []
    },
    {
      "cell_type": "markdown",
      "source": "Age of oldest athlete by region",
      "metadata": {}
    },
    {
      "cell_type": "code",
      "source": "-- Select the age of the oldest athlete for each region\nSELECT \n    region, \n    MAX(a.age) AS age_of_oldest_athlete\nFROM summer_games AS s\n-- First JOIN statement\nJOIN athletes AS a\n    ON s.athlete_id = a.id\n-- Second JOIN statement\nJOIN countries AS c\n    ON s.country_id = c.id\nGROUP BY region",
      "metadata": {},
      "execution_count": null,
      "outputs": []
    },
    {
      "cell_type": "markdown",
      "source": "Number of events in each sport",
      "metadata": {}
    },
    {
      "cell_type": "code",
      "source": "-- Select sport and events for summer sports\nSELECT \n    sport, \n    COUNT(DISTINCT event) AS events\nFROM summer_games\nGROUP BY sport\nUNION\n-- Select sport and events for winter sports\nSELECT \n    sport, \n    COUNT(DISTINCT event) AS events\nFROM winter_games\nGROUP BY sport\n-- Show the most events at the top of the report\nORDER BY events DESC;",
      "metadata": {},
      "execution_count": null,
      "outputs": []
    },
    {
      "cell_type": "markdown",
      "source": "Exploring summer_games",
      "metadata": {}
    },
    {
      "cell_type": "code",
      "source": "-- Update the query to explore the bronze field\nSELECT bronze\nFROM summer_games;",
      "metadata": {},
      "execution_count": null,
      "outputs": []
    },
    {
      "cell_type": "code",
      "source": "-- Update query to explore the unique bronze field values\nSELECT DISTINCT bronze\nFROM summer_games;",
      "metadata": {},
      "execution_count": null,
      "outputs": []
    },
    {
      "cell_type": "code",
      "source": "-- Recreate the query by using GROUP BY \nSELECT bronze\nFROM summer_games\nGROUP BY bronze;",
      "metadata": {},
      "execution_count": null,
      "outputs": []
    },
    {
      "cell_type": "code",
      "source": "-- Add the rows column to your query\nSELECT \n    bronze, \n    COUNT(*) AS rows\nFROM summer_games\nGROUP BY bronze;",
      "metadata": {},
      "execution_count": null,
      "outputs": []
    },
    {
      "cell_type": "markdown",
      "source": "Validating our query",
      "metadata": {}
    },
    {
      "cell_type": "code",
      "source": "-- Pull total_bronze_medals from summer_games below\nSELECT SUM(bronze) AS total_bronze_medals\nFROM summer_games;",
      "metadata": {},
      "execution_count": null,
      "outputs": []
    },
    {
      "cell_type": "code",
      "source": "/* Pull total_bronze_medals from summer_games below\nSELECT SUM(bronze) AS total_bronze_medals\nFROM summer_games; \n>> OUTPUT = 141 total_bronze_medals */\n\n-- Setup a query that shows bronze_medal by country\nSELECT \n    c.country, \n    SUM(s.bronze) AS bronze_medals\nFROM summer_games AS s\nJOIN countries AS c\nON s.country_id = c.id\nGROUP BY c.country;",
      "metadata": {},
      "execution_count": null,
      "outputs": []
    },
    {
      "cell_type": "code",
      "source": "/* Pull total_bronze_medals from summer_games below\nSELECT SUM(bronze) AS total_bronze_medals\nFROM summer_games; \n>> OUTPUT = 141 total_bronze_medals */\n\n-- Select the total bronze_medals from your query\nSELECT SUM(bronze_medals)\nFROM \n-- Previous query is shown below.  Alias this AS subquery.\n  (SELECT \n      country, \n      SUM(bronze) AS bronze_medals\n  FROM summer_games AS s\n  JOIN countries AS c\n      ON s.country_id = c.id\n  GROUP BY country) AS subquery\n;",
      "metadata": {},
      "execution_count": null,
      "outputs": []
    },
    {
      "cell_type": "markdown",
      "source": "Report 1: Most decorated summer athletes",
      "metadata": {}
    },
    {
      "cell_type": "code",
      "source": "-- Pull athlete_name and gold_medals for summer games\nSELECT \n    a.name AS athlete_name, \n    SUM(gold) AS gold_medals\nFROM summer_games AS s\nJOIN athletes AS a\nON s.athlete_id = a.id\nGROUP BY a.name\n-- Filter for only athletes with 3 gold medals or more\nHAVING SUM(gold) > 2\n-- Sort to show the most gold medals at the top\nORDER BY gold_medals DESC;",
      "metadata": {},
      "execution_count": null,
      "outputs": []
    }
  ]
}