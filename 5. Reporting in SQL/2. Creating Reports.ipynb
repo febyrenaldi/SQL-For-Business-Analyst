{
  "metadata": {
    "language_info": {
      "codemirror_mode": "sql",
      "file_extension": "",
      "mimetype": "",
      "name": "sql",
      "version": "3.32.3"
    },
    "kernelspec": {
      "name": "SQLite",
      "display_name": "SQLite",
      "language": "sql"
    }
  },
  "nbformat_minor": 4,
  "nbformat": 4,
  "cells": [
    {
      "cell_type": "markdown",
      "source": "Planning the filter",
      "metadata": {}
    },
    {
      "cell_type": "code",
      "source": "-- Pull distinct event names found in winter_games\nSELECT DISTINCT event\nFROM winter_games;",
      "metadata": {},
      "execution_count": null,
      "outputs": []
    },
    {
      "cell_type": "markdown",
      "source": "JOIN then UNION query",
      "metadata": {}
    },
    {
      "cell_type": "code",
      "source": "-- Query season, country, and events for all summer events\nSELECT \n    'summer' AS season, \n    country, \n    COUNT(DISTINCT event) AS events\nFROM summer_games AS s\nJOIN countries AS c\nON s.country_id = c.id\nGROUP BY country\n-- Combine the queries\nUNION ALL\n-- Query season, country, and events for all winter events\nSELECT \n    'winter' AS season, \n    country, \n    COUNT(DISTINCT event) AS events\nFROM winter_games AS w\nJOIN countries AS c\nON w.country_id = c.id\nGROUP BY country\n-- Sort the results to show most events at the top\nORDER BY events DESC;",
      "metadata": {},
      "execution_count": null,
      "outputs": []
    },
    {
      "cell_type": "markdown",
      "source": "UNION then JOIN query",
      "metadata": {}
    },
    {
      "cell_type": "code",
      "source": "-- Add outer layer to pull season, country and unique events\nSELECT \n    season, \n    country, \n    COUNT(DISTINCT event) AS events\nFROM\n    -- Pull season, country_id, and event for both seasons\n    (SELECT \n         'summer' AS season, \n         country_id, \n         event\n    FROM summer_games\n    UNION ALL\n    SELECT \n         'winter' AS season,\n         country_id, \n         event\n    FROM winter_games) AS subquery\nJOIN countries AS c\n    ON subquery.country_id = c.id\n-- Group by any unaggregated fields\nGROUP BY season, country\n-- Order to show most events at the top\nORDER BY events DESC;",
      "metadata": {
        "trusted": true
      },
      "execution_count": null,
      "outputs": [
        {
          "ename": "Error",
          "evalue": "Please load a database to perform operations",
          "traceback": [
            "Error: Please load a database to perform operations"
          ],
          "output_type": "error"
        }
      ]
    },
    {
      "cell_type": "markdown",
      "source": "CASE statement refresher",
      "metadata": {}
    },
    {
      "cell_type": "code",
      "source": "SELECT \n    name,\n    -- Output 'Tall Female', 'Tall Male', or 'Other'\n    CASE WHEN gender = 'F' AND height >= 175 THEN 'Tall Female'\n    WHEN gender = 'M' AND height >= 190 THEN 'Tall Male'\n    ELSE 'Other' END AS segment\nFROM athletes;",
      "metadata": {},
      "execution_count": null,
      "outputs": []
    },
    {
      "cell_type": "markdown",
      "source": "BMI bucket by sport",
      "metadata": {}
    },
    {
      "cell_type": "code",
      "source": "-- Pull in sport, bmi_bucket, and athletes\nSELECT \n    sport,\n    -- Bucket BMI in three groups: <.25, .25-.30, and >.30\t\n    CASE WHEN 100*weight/height^2 <.25 THEN '<.25'\n    WHEN 100*weight/height^2 <=.30 THEN '.25-.30'\n    WHEN 100*weight/height^2 >.30 THEN '>.30' END AS bmi_bucket,\n    COUNT(DISTINCT athlete_id) AS athletes\nFROM summer_games AS s\nJOIN athletes AS a\n    ON s.athlete_id = a.id\n-- GROUP BY non-aggregated fields\nGROUP BY sport, bmi_bucket\n-- Sort by sport and then by athletes in descending order\nORDER BY sport, athletes DESC;",
      "metadata": {},
      "execution_count": null,
      "outputs": []
    },
    {
      "cell_type": "markdown",
      "source": "Troubleshooting CASE statements",
      "metadata": {}
    },
    {
      "cell_type": "code",
      "source": "-- Query from last exercise shown below.  Comment it out.\n/*SELECT \n    sport,\n    CASE WHEN weight/height^2*100 <.25 THEN '<.25'\n    WHEN weight/height^2*100 <=.30 THEN '.25-.30'\n    WHEN weight/height^2*100 >.30 THEN '>.30' END AS bmi_bucket,\n    COUNT(DISTINCT athlete_id) AS athletes\nFROM summer_games AS s\nJOIN athletes AS a\nON s.athlete_id = a.id\nGROUP BY sport, bmi_bucket\nORDER BY sport, athletes DESC;*/\n\n-- Show height, weight, and bmi for all athletes\nSELECT \n    height, \n    weight, \n    weight/height^2*100 AS bmi\nFROM athletes\n-- Filter for NULL bmi values\nWHERE weight/height^2*100 IS NULL;",
      "metadata": {},
      "execution_count": null,
      "outputs": []
    },
    {
      "cell_type": "code",
      "source": "-- Uncomment the original query\nSELECT \n    sport,\n    CASE WHEN weight/height^2*100 <.25 THEN '<.25'\n    WHEN weight/height^2*100 <=.30 THEN '.25-.30'\n    WHEN weight/height^2*100 >.30 THEN '>.30'\n    -- Add ELSE statement to output 'no weight recorded'\n    ELSE 'no weight recorded' END AS bmi_bucket,\n    COUNT(DISTINCT athlete_id) AS athletes\nFROM summer_games AS s\nJOIN athletes AS a\nON s.athlete_id = a.id\nGROUP BY sport, bmi_bucket\nORDER BY sport, athletes DESC;\n\n-- Comment out the troubleshooting query\n/*SELECT \n    height, \n    weight, \n    weight/height^2*100 AS bmi\nFROM athletes\nWHERE weight/height^2*100 IS NULL;*/",
      "metadata": {},
      "execution_count": null,
      "outputs": []
    },
    {
      "cell_type": "markdown",
      "source": "Filtering with a JOIN",
      "metadata": {}
    },
    {
      "cell_type": "code",
      "source": "-- Pull summer bronze_medals, silver_medals, and gold_medals\nSELECT \n    SUM(bronze) AS bronze_medals, \n    SUM(silver) AS silver_medals, \n    SUM(gold) AS gold_medals\nFROM summer_games AS s\nJOIN athletes AS a\nON s.athlete_id = a.id\n-- Filter for athletes age 16 or below\nWHERE age <= 16;",
      "metadata": {},
      "execution_count": null,
      "outputs": []
    },
    {
      "cell_type": "markdown",
      "source": "Filtering with a subquery",
      "metadata": {}
    },
    {
      "cell_type": "code",
      "source": "-- Pull summer bronze_medals, silver_medals, and gold_medals\nSELECT \n    SUM(bronze) AS bronze_medals, \n    SUM(silver) AS silver_medals, \n    SUM(gold) AS gold_medals\nFROM summer_games\n-- Add the WHERE statement below\nWHERE athlete_id IN\n    -- Create subquery list for athlete_ids age 16 or below   \n    (SELECT id\n     FROM athletes\n     WHERE age <= 16);",
      "metadata": {},
      "execution_count": null,
      "outputs": []
    },
    {
      "cell_type": "markdown",
      "source": "Report 2: Top athletes in nobel-prized countries",
      "metadata": {}
    },
    {
      "cell_type": "code",
      "source": "-- Pull event and unique athletes from summer_games \nSELECT \n    event, \n    COUNT(DISTINCT athlete_id) AS athletes\nFROM summer_games\nGROUP BY event;",
      "metadata": {},
      "execution_count": null,
      "outputs": []
    },
    {
      "cell_type": "code",
      "source": "-- Pull event and unique athletes from summer_games \nSELECT \n    event,\n    -- Add the gender field below\n    CASE WHEN event LIKE '%Women%' THEN 'female' \n   \tELSE 'male' END AS gender,\n    COUNT(DISTINCT athlete_id) AS athletes\nFROM summer_games\nGROUP BY event;",
      "metadata": {},
      "execution_count": null,
      "outputs": []
    },
    {
      "cell_type": "code",
      "source": "-- Pull event and unique athletes from summer_games \nSELECT \n    event,\n    -- Add the gender field below\n    CASE WHEN event LIKE '%Women%' THEN 'female' \n    ELSE 'male' END AS gender,\n    COUNT(DISTINCT athlete_id) AS athletes\nFROM summer_games\n-- Only include countries that won a nobel prize\nWHERE country_id IN \n    (SELECT country_id \n    FROM country_stats \n    WHERE nobel_prize_winners > 0)\nGROUP BY event;",
      "metadata": {},
      "execution_count": null,
      "outputs": []
    },
    {
      "cell_type": "code",
      "source": "-- Pull event and unique athletes from summer_games \nSELECT \n    event,\n    -- Add the gender field below\n    CASE WHEN event LIKE '%Women%' THEN 'female' \n    ELSE 'male' END AS gender,\n    COUNT(DISTINCT athlete_id) AS athletes\nFROM summer_games\n-- Only include countries that won a nobel prize\nWHERE country_id IN \n    (SELECT country_id \n    FROM country_stats \n    WHERE nobel_prize_winners > 0)\nGROUP BY event\n-- Add the second query below and combine with a UNION\nUNION\nSELECT \n    event,\n    CASE WHEN event LIKE '%Women%' THEN 'female' \n    ELSE 'male' END AS gender,\n    COUNT(DISTINCT athlete_id) AS athletes\nFROM winter_games\nWHERE country_id IN \n    (SELECT country_id \n    FROM country_stats \n    WHERE nobel_prize_winners > 0)\nGROUP BY event\n-- Order and limit the final output\nORDER BY athletes DESC\nLIMIT 10;\n",
      "metadata": {},
      "execution_count": null,
      "outputs": []
    }
  ]
}