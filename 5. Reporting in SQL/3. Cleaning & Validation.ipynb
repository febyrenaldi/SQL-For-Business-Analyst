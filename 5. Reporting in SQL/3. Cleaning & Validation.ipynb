{
  "metadata": {
    "language_info": {
      "codemirror_mode": "sql",
      "file_extension": "",
      "mimetype": "",
      "name": "sql",
      "version": "3.32.3"
    },
    "kernelspec": {
      "name": "SQLite",
      "display_name": "SQLite",
      "language": "sql"
    }
  },
  "nbformat_minor": 4,
  "nbformat": 4,
  "cells": [
    {
      "cell_type": "markdown",
      "source": "Identifying data types",
      "metadata": {}
    },
    {
      "cell_type": "code",
      "source": "-- Pull column_name & data_type from the columns table\nSELECT \n    column_name, \n    data_type\nFROM information_schema.columns\n-- Filter for the table 'country_stats'\nWHERE table_name = 'country_stats';",
      "metadata": {},
      "execution_count": null,
      "outputs": []
    },
    {
      "cell_type": "markdown",
      "source": "Interpreting error messages",
      "metadata": {}
    },
    {
      "cell_type": "code",
      "source": "-- Run the query, then convert a data type to fix the error\nSELECT AVG(CAST(pop_in_millions AS float)) AS avg_population\nFROM country_stats;\n\n/*SELECT \n    s.country_id, \n    COUNT(DISTINCT s.athlete_id) AS summer_athletes, \n    COUNT(DISTINCT w.athlete_id) AS winter_athletes\nFROM summer_games AS s\nJOIN winter_games_str AS w\nON s.country_id = w.country_id\nGROUP BY s.country_id;*/",
      "metadata": {},
      "execution_count": null,
      "outputs": []
    },
    {
      "cell_type": "code",
      "source": "-- Comment out the previous query\n/*SELECT AVG(CAST(pop_in_millions AS float)) AS avg_population\nFROM country_stats;*/\n\n-- Uncomment the following block & run the query\nSELECT \n    s.country_id, \n    COUNT(DISTINCT s.athlete_id) AS summer_athletes, \n    COUNT(DISTINCT w.athlete_id) AS winter_athletes\nFROM summer_games AS s\nJOIN winter_games_str AS w\n-- Fix the error by making both columns integers\nON s.country_id = CAST(w.country_id AS int)\nGROUP BY s.country_id;\n",
      "metadata": {},
      "execution_count": null,
      "outputs": []
    },
    {
      "cell_type": "markdown",
      "source": "Using date functions on strings",
      "metadata": {}
    },
    {
      "cell_type": "code",
      "source": "SELECT \n    year,\n    -- Pull decade, decade_truncate, and the world's gdp\n    DATE_PART('decade',CAST(year AS date)) AS decade,\n    DATE_TRUNC('decade',CAST(year AS date)) AS decade_truncated,\n    SUM(gdp) AS world_gdp\nFROM country_stats\n-- Group and order by year in descending order\nGROUP BY year\nORDER BY year DESC;",
      "metadata": {},
      "execution_count": null,
      "outputs": []
    },
    {
      "cell_type": "markdown",
      "source": "String functions",
      "metadata": {}
    },
    {
      "cell_type": "code",
      "source": "-- Convert country to lower case\nSELECT \n    country, \n    LOWER(country) AS country_altered\nFROM countries\nGROUP BY country;",
      "metadata": {},
      "execution_count": null,
      "outputs": []
    },
    {
      "cell_type": "code",
      "source": "-- Convert country to proper case\nSELECT \n    country, \n    INITCAP(country) AS country_altered\nFROM countries\nGROUP BY country;",
      "metadata": {},
      "execution_count": null,
      "outputs": []
    },
    {
      "cell_type": "code",
      "source": "-- Output the left 3 characters of country\nSELECT \n    country, \n    LEFT(country,3) AS country_altered\nFROM countries\nGROUP BY country;",
      "metadata": {},
      "execution_count": null,
      "outputs": []
    },
    {
      "cell_type": "code",
      "source": "-- Output all characters starting with position 7\nSELECT \n    country, \n    SUBSTRING(country from 7) AS country_altered\nFROM countries\nGROUP BY country;",
      "metadata": {},
      "execution_count": null,
      "outputs": []
    },
    {
      "cell_type": "markdown",
      "source": "Replacing and removing substrings",
      "metadata": {}
    },
    {
      "cell_type": "code",
      "source": "SELECT \n    region, \n    -- Replace all '&' characters with the string 'and'\n    REPLACE(region,'&','and') AS character_swap,\n    -- Remove all periods\n    REPLACE(region,'.','') AS character_remove\nFROM countries\nWHERE region = 'LATIN AMER. & CARIB'\nGROUP BY region;",
      "metadata": {},
      "execution_count": null,
      "outputs": []
    },
    {
      "cell_type": "code",
      "source": "SELECT \n    region, \n    -- Replace all '&' characters with the string 'and'\n    REPLACE(region,'&','and') AS character_swap,\n    -- Remove all periods\n    REPLACE(region,'.','') AS character_remove,\n    -- Combine the functions to run both changes at once\n    REPLACE(REPLACE(region,'&','and'),'.','') AS character_swap_and_remove\nFROM countries\nWHERE region = 'LATIN AMER. & CARIB'\nGROUP BY region;",
      "metadata": {},
      "execution_count": null,
      "outputs": []
    },
    {
      "cell_type": "markdown",
      "source": "Fixing incorrect groupings",
      "metadata": {}
    },
    {
      "cell_type": "code",
      "source": "-- Pull event and unique athletes from summer_games_messy \nSELECT \n    event, \n    COUNT(DISTINCT athlete_id) AS athletes\nFROM summer_games_messy\n-- Group by the non-aggregated field\nGROUP BY event;",
      "metadata": {},
      "execution_count": null,
      "outputs": []
    },
    {
      "cell_type": "code",
      "source": "-- Pull event and unique athletes from summer_games_messy \nSELECT \n    -- Remove trailing spaces and alias as event_fixed\n    TRIM(event) AS event_fixed, \n    COUNT(DISTINCT athlete_id) AS athletes\nFROM summer_games_messy\n-- Update the group by accordingly\nGROUP BY event_fixed;",
      "metadata": {},
      "execution_count": null,
      "outputs": []
    },
    {
      "cell_type": "code",
      "source": "-- Pull event and unique athletes from summer_games_messy \nSELECT\n    -- Remove dashes from all event values\n    REPLACE(TRIM(event),'-','') AS event_fixed, \n    COUNT(DISTINCT athlete_id) AS athletes\nFROM summer_games_messy\n-- Update the group by accordingly\nGROUP BY event_fixed;",
      "metadata": {},
      "execution_count": null,
      "outputs": []
    },
    {
      "cell_type": "markdown",
      "source": "Filtering out nulls",
      "metadata": {}
    },
    {
      "cell_type": "code",
      "source": "-- Show total gold_medals by country\nSELECT \n    country, \n    SUM(gold) AS gold_medals\nFROM winter_games AS w\nJOIN countries AS c\nON w.country_id = c.id\nGROUP BY country\n-- Order by gold_medals in descending order\nORDER BY gold_medals DESC;",
      "metadata": {},
      "execution_count": null,
      "outputs": []
    },
    {
      "cell_type": "code",
      "source": "-- Show total gold_medals by country\nSELECT \n    country, \n    SUM(gold) AS gold_medals\nFROM winter_games AS w\nJOIN countries AS c\nON w.country_id = c.id\n-- Removes any row with no gold medals\nWHERE gold IS NOT NULL\nGROUP BY country\n-- Order by gold_medals in descending order\nORDER BY gold_medals DESC;",
      "metadata": {},
      "execution_count": null,
      "outputs": []
    },
    {
      "cell_type": "code",
      "source": "-- Show total gold_medals by country\nSELECT \n    country, \n    SUM(gold) AS gold_medals\nFROM winter_games AS w\nJOIN countries AS c\nON w.country_id = c.id\n-- Comment out the WHERE statement\n--WHERE gold IS NOT NULL\nGROUP BY country\n-- Replace WHERE statement with equivalent HAVING statement\nHAVING SUM(gold) IS NOT NULL\n-- Order by gold_medals in descending order\nORDER BY gold_medals DESC;",
      "metadata": {},
      "execution_count": null,
      "outputs": []
    },
    {
      "cell_type": "markdown",
      "source": "Fixing calculations with coalesce",
      "metadata": {}
    },
    {
      "cell_type": "code",
      "source": "-- Pull events and golds by athlete_id for summer events\nSELECT \n    athlete_id, \n    COUNT(event) AS total_events, \n    SUM(gold) AS gold_medals\nFROM summer_games\nGROUP BY athlete_id\n-- Order by total_events descending and athlete_id ascending\nORDER BY total_events DESC, athlete_id;",
      "metadata": {},
      "execution_count": null,
      "outputs": []
    },
    {
      "cell_type": "code",
      "source": "-- Pull events and golds by athlete_id for summer events\nSELECT \n    athlete_id, \n    -- Add a field that averages the existing gold field\n    AVG(gold) AS avg_golds,\n    COUNT(event) AS total_events, \n    SUM(gold) AS gold_medals\nFROM summer_games\nGROUP BY athlete_id\n-- Order by total_events descending and athlete_id ascending\nORDER BY total_events DESC, athlete_id;",
      "metadata": {},
      "execution_count": null,
      "outputs": []
    },
    {
      "cell_type": "code",
      "source": "-- Pull events and golds by athlete_id for summer events\nSELECT \n    athlete_id, \n    -- Replace all null gold values with 0\n    AVG(COALESCE(gold,0)) AS avg_golds,\n    COUNT(event) AS total_events, \n    SUM(gold) AS gold_medals\nFROM summer_games\nGROUP BY athlete_id\n-- Order by total_events descending and athlete_id ascending\nORDER BY total_events DESC, athlete_id;",
      "metadata": {},
      "execution_count": null,
      "outputs": []
    },
    {
      "cell_type": "markdown",
      "source": "Identifying duplication",
      "metadata": {}
    },
    {
      "cell_type": "code",
      "source": "-- Pull total gold_medals for winter sports\nSELECT SUM(gold) AS gold_medals\nFROM winter_games;",
      "metadata": {},
      "execution_count": null,
      "outputs": []
    },
    {
      "cell_type": "code",
      "source": "-- Comment out the query after noting the gold medal count\n/*SELECT SUM(gold) AS gold_medals\nFROM winter_games;*/\n-- TOTAL GOLD MEDALS: 47 \n\n-- Show gold_medals and avg_gdp by country_id\nSELECT \n    w.country_id, \n    SUM(gold) AS gold_medals, \n    AVG(gdp) AS avg_gdp\nFROM winter_games AS w\nJOIN country_stats AS c\n-- Only join on the country_id fields\nON c.country_id = w.country_id\nGROUP BY w.country_id;",
      "metadata": {},
      "execution_count": null,
      "outputs": []
    },
    {
      "cell_type": "code",
      "source": "-- Comment out the query after noting the gold medal count\n/*SELECT SUM(gold) AS gold_medals\nFROM winter_games;*/\n-- TOTAL GOLD MEDALS: 47 \n\n-- Calculate the total gold_medals in your query\nSELECT SUM(gold_medals)\nFROM\n    (SELECT \n         w.country_id, \n         SUM(gold) AS gold_medals, \n         AVG(gdp) AS avg_gdp\n    FROM winter_games AS w\n    JOIN country_stats AS c\n    ON c.country_id = w.country_id\n    -- Alias your query as subquery\n    GROUP BY w.country_id) AS subquery;",
      "metadata": {},
      "execution_count": null,
      "outputs": []
    },
    {
      "cell_type": "markdown",
      "source": "Fixing duplication through a JOIN",
      "metadata": {}
    },
    {
      "cell_type": "code",
      "source": "SELECT SUM(gold_medals) AS gold_medals\nFROM\n    (SELECT \n         w.country_id, \n         SUM(gold) AS gold_medals, \n         AVG(gdp) AS avg_gdp\n    FROM winter_games AS w\n    JOIN country_stats AS c\n    -- Update the subquery to join on a second field\n    ON c.country_id = w.country_id AND w.year = CAST(c.year AS date)\n    GROUP BY w.country_id) AS subquery;",
      "metadata": {},
      "execution_count": null,
      "outputs": []
    },
    {
      "cell_type": "markdown",
      "source": "Report 3: Countries with high medal rates",
      "metadata": {}
    },
    {
      "cell_type": "code",
      "source": "SELECT \n    c.country, \n    -- Add the three medal fields using one sum function\n    SUM(COALESCE(bronze,0) + COALESCE(silver,0) + COALESCE(gold,0)) AS medals\nFROM summer_games AS s\nJOIN countries AS c\nON s.country_id = c.id\nGROUP BY c.country\nORDER BY medals DESC;",
      "metadata": {},
      "execution_count": null,
      "outputs": []
    },
    {
      "cell_type": "code",
      "source": "SELECT \n    c.country,\n    -- Pull in pop_in_millions and medals_per_million \n    pop_in_millions,\n    -- Add the three medal fields using one sum function\n    SUM(COALESCE(bronze,0) + COALESCE(silver,0) + COALESCE(gold,0)) AS medals,\n    SUM(COALESCE(bronze,0) + COALESCE(silver,0) + COALESCE(gold,0)) / CAST(cs.pop_in_millions AS float) AS medals_per_million\nFROM summer_games AS s\nJOIN countries AS c \n    ON s.country_id = c.id\n-- Add a join\nJOIN country_stats AS cs \n    ON s.country_id = cs.country_id\nGROUP BY c.country, pop_in_millions\nORDER BY medals DESC;\n",
      "metadata": {},
      "execution_count": null,
      "outputs": []
    },
    {
      "cell_type": "code",
      "source": "SELECT \n    c.country,\n    -- Pull in pop_in_millions and medals_per_million \n    pop_in_millions,\n    -- Add the three medal fields using one sum function\n    SUM(COALESCE(bronze,0) + COALESCE(silver,0) + COALESCE(gold,0)) AS medals,\n    SUM(COALESCE(bronze,0) + COALESCE(silver,0) + COALESCE(gold,0)) / CAST(cs.pop_in_millions AS float) AS medals_per_million\nFROM summer_games AS s\nJOIN countries AS c \n    ON s.country_id = c.id\n-- Update the newest join statement to remove duplication\nJOIN country_stats AS cs \n    ON s.country_id = cs.country_id AND s.year = CAST(cs.year AS date)\nGROUP BY c.country, pop_in_millions\nORDER BY medals DESC;",
      "metadata": {},
      "execution_count": null,
      "outputs": []
    },
    {
      "cell_type": "code",
      "source": "SELECT \n    -- Clean the country field to only show country_code\n    LEFT(REPLACE(UPPER(TRIM(c.country)), '.', ''), 3) AS country_code,\n    -- Pull in pop_in_millions and medals_per_million \n    pop_in_millions,\n    -- Add the three medal fields using one sum function\n    SUM(COALESCE(bronze,0) + COALESCE(silver,0) + COALESCE(gold,0)) AS medals,\n    SUM(COALESCE(bronze,0) + COALESCE(silver,0) + COALESCE(gold,0)) / CAST(cs.pop_in_millions AS float) AS medals_per_million\nFROM summer_games AS s\nJOIN countries AS c \n    ON s.country_id = c.id\n-- Update the newest join statement to remove duplication\nJOIN country_stats AS cs \n    ON s.country_id = cs.country_id AND s.year = CAST(cs.year AS date)\n-- Filter out null populations\nWHERE cs.pop_in_millions IS NOT NULL\nGROUP BY c.country, pop_in_millions\n-- Keep only the top 25 medals_per_million rows\nORDER BY medals_per_million DESC\nLIMIT 25;",
      "metadata": {},
      "execution_count": null,
      "outputs": []
    }
  ]
}