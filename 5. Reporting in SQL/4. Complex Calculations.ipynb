{
  "metadata": {
    "language_info": {
      "codemirror_mode": "sql",
      "file_extension": "",
      "mimetype": "",
      "name": "sql",
      "version": "3.32.3"
    },
    "kernelspec": {
      "name": "SQLite",
      "display_name": "SQLite",
      "language": "sql"
    }
  },
  "nbformat_minor": 4,
  "nbformat": 4,
  "cells": [
    {
      "cell_type": "markdown",
      "source": "Testing out window functions",
      "metadata": {}
    },
    {
      "cell_type": "code",
      "source": "SELECT \n    country_id,\n    year,\n    gdp,\n    -- Show the average gdp across all years per country\n    AVG(gdp) OVER (PARTITION BY country_id) AS country_avg_gdp\nFROM country_stats;",
      "metadata": {},
      "execution_count": null,
      "outputs": []
    },
    {
      "cell_type": "code",
      "source": "SELECT \n    country_id,\n    year,\n    gdp,\n    -- Show total gdp per country and alias accordingly\n    SUM(gdp) OVER (PARTITION BY country_id) AS country_sum_gdp\nFROM country_stats;",
      "metadata": {},
      "execution_count": null,
      "outputs": []
    },
    {
      "cell_type": "code",
      "source": "SELECT \n    country_id,\n    year,\n    gdp,\n    -- Show max gdp per country and alias accordingly\n    MAX(gdp) OVER (PARTITION BY country_id) AS country_max_gdp\nFROM country_stats;",
      "metadata": {},
      "execution_count": null,
      "outputs": []
    },
    {
      "cell_type": "code",
      "source": "SELECT \n    country_id,\n    year,\n    gdp,\n    -- Show max gdp for the table and alias accordingly\n    MAX(gdp) OVER () AS global_max_gdp\nFROM country_stats;",
      "metadata": {},
      "execution_count": null,
      "outputs": []
    },
    {
      "cell_type": "markdown",
      "source": "Average total country medals by region",
      "metadata": {}
    },
    {
      "cell_type": "code",
      "source": "-- Query total_golds by region and country_id\nSELECT \n    region, \n    country_id, \n    SUM(gold) AS total_golds\nFROM summer_games_clean AS s\nJOIN countries AS c\n    ON s.country_id = c.id\nGROUP BY region, country_id;",
      "metadata": {},
      "execution_count": null,
      "outputs": []
    },
    {
      "cell_type": "code",
      "source": "-- Pull in avg_total_golds by region\nSELECT \n    region,\n    AVG(total_golds) AS avg_total_golds\nFROM\n  (SELECT \n      region, \n      country_id, \n      SUM(gold) AS total_golds\n  FROM summer_games_clean AS s\n  JOIN countries AS c\n  ON s.country_id = c.id\n  -- Alias the subquery\n  GROUP BY region, country_id) AS subquery\nGROUP BY region\n-- Order by avg_total_golds in descending order\nORDER BY avg_total_golds DESC;",
      "metadata": {},
      "execution_count": null,
      "outputs": []
    },
    {
      "cell_type": "markdown",
      "source": "Most decorated athlete per region",
      "metadata": {}
    },
    {
      "cell_type": "code",
      "source": "SELECT \n    -- Query region, athlete_name, and total gold medals\n    region, \n    name AS athlete_name, \n    SUM(gold) AS total_golds,\n    -- Assign a regional rank to each athlete\n    ROW_NUMBER() OVER (PARTITION BY region ORDER BY SUM(gold) DESC) AS row_num\nFROM summer_games_clean AS s\nJOIN athletes AS a\n    ON a.id = s.athlete_id\nJOIN countries AS c\n    ON s.country_id = c.id\nGROUP BY region, athlete_name;",
      "metadata": {},
      "execution_count": null,
      "outputs": []
    },
    {
      "cell_type": "code",
      "source": "-- Query region, athlete name, and total_golds\nSELECT \n    region,\n    athlete_name,\n    total_golds\nFROM\n    (SELECT \n     -- Query region, athlete_name, and total gold medals\n        region, \n        name AS athlete_name, \n        SUM(gold) AS total_golds,\n        -- Assign a regional rank to each athlete\n        ROW_NUMBER() OVER (PARTITION BY region ORDER BY SUM(gold) DESC) AS row_num\n    FROM summer_games_clean AS s\n    JOIN athletes AS a\n        ON a.id = s.athlete_id\n    JOIN countries AS c\n        ON s.country_id = c.id\n    -- Alias as subquery\n    GROUP BY region, athlete_name) AS subquery\n-- Filter for only the top athlete per region\nWHERE row_num = 1;",
      "metadata": {},
      "execution_count": null,
      "outputs": []
    },
    {
      "cell_type": "markdown",
      "source": "Percent of gdp per country",
      "metadata": {}
    },
    {
      "cell_type": "code",
      "source": "-- Pull country_gdp by region and country\nSELECT \n    region,\n    country,\n    SUM(gdp) AS country_gdp\nFROM country_stats AS cs\nJOIN countries AS c\n    ON cs.country_id = c.id\n-- Filter out null gdp values\nWHERE gdp IS NOT NULL\nGROUP BY region, country\n-- Show the highest country_gdp at the top\nORDER BY country_gdp DESC;",
      "metadata": {},
      "execution_count": null,
      "outputs": []
    },
    {
      "cell_type": "code",
      "source": "-- Pull country_gdp by region and country\nSELECT \n    region,\n    country,\n    SUM(gdp) AS country_gdp,\n    -- Calculate the global gdp\n    SUM(SUM(gdp)) OVER () AS global_gdp\nFROM country_stats AS cs\nJOIN countries AS c\n    ON cs.country_id = c.id\n-- Filter out null gdp values\nWHERE gdp IS NOT NULL\nGROUP BY region, country\n-- Show the highest country_gdp at the top\nORDER BY country_gdp DESC;",
      "metadata": {},
      "execution_count": null,
      "outputs": []
    },
    {
      "cell_type": "code",
      "source": "-- Pull country_gdp by region and country\nSELECT \n    region,\n    country,\n    SUM(gdp) AS country_gdp,\n    -- Calculate the global gdp\n    SUM(SUM(gdp)) OVER () AS global_gdp,\n    -- Calculate percent of global gdp\n    SUM(gdp) / SUM(SUM(gdp)) OVER () AS perc_global_gdp\nFROM country_stats AS cs\nJOIN countries AS c\n    ON cs.country_id = c.id\n-- Filter out null gdp values\nWHERE gdp IS NOT NULL\nGROUP BY region, country\n-- Show the highest country_gdp at the top\nORDER BY country_gdp DESC;",
      "metadata": {},
      "execution_count": null,
      "outputs": []
    },
    {
      "cell_type": "code",
      "source": "-- Pull country_gdp by region and country\nSELECT \n    region,\n    country,\n    SUM(gdp) AS country_gdp,\n    -- Calculate the global gdp\n    SUM(SUM(gdp)) OVER () AS global_gdp,\n    -- Calculate percent of global gdp\n    SUM(gdp) / SUM(SUM(gdp)) OVER () AS perc_global_gdp,\n    -- Calculate percent of gdp relative to its region\n    SUM(gdp) / SUM(SUM(gdp)) OVER (PARTITION BY region) AS perc_region_gdp\nFROM country_stats AS cs\nJOIN countries AS c\n    ON cs.country_id = c.id\n-- Filter out null gdp values\nWHERE gdp IS NOT NULL\nGROUP BY region, country\n-- Show the highest country_gdp at the top\nORDER BY country_gdp DESC;",
      "metadata": {},
      "execution_count": null,
      "outputs": []
    },
    {
      "cell_type": "markdown",
      "source": "GDP per capita performance index",
      "metadata": {}
    },
    {
      "cell_type": "code",
      "source": "-- Bring in region, country, and gdp_per_million\nSELECT \n    region,\n    country,\n    SUM(gdp) / SUM(pop_in_millions) AS gdp_per_million\n-- Pull from country_stats_clean\nFROM country_stats_clean AS cs\nJOIN countries AS c \n    ON cs.country_id = c.id\n-- Filter for 2016 and remove null gdp values\nWHERE year = '2016-01-01' AND gdp IS NOT NULL\nGROUP BY region, country\n-- Show highest gdp_per_million at the top\nORDER BY gdp_per_million DESC;",
      "metadata": {},
      "execution_count": null,
      "outputs": []
    },
    {
      "cell_type": "code",
      "source": "-- Bring in region, country, and gdp_per_million\nSELECT \n    region,\n    country,\n    SUM(gdp) / SUM(pop_in_millions) AS gdp_per_million,\n    -- Output the worlds gdp_per_million\n    SUM(SUM(gdp)) OVER () / SUM(SUM(pop_in_millions)) OVER () AS gdp_per_million_total\n-- Pull from country_stats_clean\nFROM country_stats_clean AS cs\nJOIN countries AS c \n    ON cs.country_id = c.id\n-- Filter for 2016 and remove null gdp values\nWHERE year = '2016-01-01' AND gdp IS NOT NULL\nGROUP BY region, country\n-- Show highest gdp_per_million at the top\nORDER BY gdp_per_million DESC;",
      "metadata": {},
      "execution_count": null,
      "outputs": []
    },
    {
      "cell_type": "code",
      "source": "-- Bring in region, country, and gdp_per_million\nSELECT \n    region,\n    country,\n    SUM(gdp) / SUM(pop_in_millions) AS gdp_per_million,\n    -- Output the worlds gdp_per_million\n    SUM(SUM(gdp)) OVER () / SUM(SUM(pop_in_millions)) OVER () AS gdp_per_million_total,\n    -- Build the performance_index in the 3 lines below\n    (SUM(gdp) / SUM(pop_in_millions))\n    /\n    (SUM(SUM(gdp)) OVER () / SUM(SUM(pop_in_millions)) OVER ()) AS performance_index\n-- Pull from country_stats_clean\nFROM country_stats_clean AS cs\nJOIN countries AS c \n    ON cs.country_id = c.id\n-- Filter for 2016 and remove null gdp values\nWHERE year = '2016-01-01' AND gdp IS NOT NULL\nGROUP BY region, country\n-- Show highest gdp_per_million at the top\nORDER BY gdp_per_million DESC;",
      "metadata": {},
      "execution_count": null,
      "outputs": []
    },
    {
      "cell_type": "markdown",
      "source": "Month-over-month comparison",
      "metadata": {}
    },
    {
      "cell_type": "code",
      "source": "SELECT\n    -- Pull month and country_id\n    DATE_PART('month', date) AS month,\n    country_id,\n    -- Pull in current month views\n    SUM(views) AS month_views,\n    -- Pull in last month views\n    LAG(SUM(views)) OVER (PARTITION BY country_id ORDER BY DATE_PART('month', date)) AS previous_month_views,\n    -- Calculate the percent change\n    SUM(views) / LAG(SUM(views)) OVER (PARTITION BY country_id ORDER BY DATE_PART('month', date)) - 1 AS perc_change\nFROM web_data\nWHERE date <= '2018-05-31'\nGROUP BY month, country_id;",
      "metadata": {},
      "execution_count": null,
      "outputs": []
    },
    {
      "cell_type": "markdown",
      "source": "Week-over-week comparison",
      "metadata": {}
    },
    {
      "cell_type": "code",
      "source": "SELECT\n    -- Pull in date and daily_views\n    date,\n    SUM(views) AS daily_views,\n    -- Calculate the rolling 7 day average\n    AVG(SUM(views)) OVER (ORDER BY date ROWS BETWEEN 6 PRECEDING AND CURRENT ROW) AS weekly_avg\nFROM web_data\nGROUP BY date;",
      "metadata": {},
      "execution_count": null,
      "outputs": []
    },
    {
      "cell_type": "code",
      "source": "SELECT \n    -- Pull in date and weekly_avg\n    date,\n    weekly_avg,\n    -- Output the value of weekly_avg from 7 days prior\n    LAG(weekly_avg,7) OVER (ORDER BY date) AS weekly_avg_previous\nFROM\n  (SELECT\n      -- Pull in date and daily_views\n      date,\n      SUM(views) AS daily_views,\n      -- Calculate the rolling 7 day average\n      AVG(SUM(views)) OVER (ORDER BY date ROWS BETWEEN 6 PRECEDING AND CURRENT ROW) AS weekly_avg\n  FROM web_data\n  -- Alias as subquery\n  GROUP BY date) AS subquery\n-- Order by date in descending order\nORDER BY date DESC;\n",
      "metadata": {},
      "execution_count": null,
      "outputs": []
    },
    {
      "cell_type": "code",
      "source": "SELECT \n    -- Pull in date and weekly_avg\n    date,\n    weekly_avg,\n    -- Output the value of weekly_avg from 7 days prior\n    LAG(weekly_avg,7) OVER (ORDER BY date) AS weekly_avg_previous,\n    -- Calculate percent change vs previous period\n    weekly_avg / LAG(weekly_avg,7) OVER (ORDER BY date) - 1 as perc_change\nFROM\n  (SELECT\n      -- Pull in date and daily_views\n      date,\n      SUM(views) AS daily_views,\n      -- Calculate the rolling 7 day average\n      AVG(SUM(views)) OVER (ORDER BY date ROWS BETWEEN 6 PRECEDING AND CURRENT ROW) AS weekly_avg\n  FROM web_data\n  -- Alias as subquery\n  GROUP BY date) AS subquery\n-- Order by date in descending order\nORDER BY date DESC;",
      "metadata": {},
      "execution_count": null,
      "outputs": []
    },
    {
      "cell_type": "markdown",
      "source": "Report 4: Tallest athletes and % GDP by region",
      "metadata": {}
    },
    {
      "cell_type": "code",
      "source": "SELECT \n    -- Pull in country_id and height\n    country_id, \n    height, \n    -- Number the height of each country's athletes\n    ROW_NUMBER() OVER (PARTITION BY country_id ORDER BY height DESC) AS row_num\nFROM winter_games AS w \nJOIN athletes AS a \n    ON w.athlete_id = a.id\nGROUP BY country_id, height\n-- Order by country_id and then height in descending order\nORDER BY country_id, height DESC;",
      "metadata": {},
      "execution_count": null,
      "outputs": []
    },
    {
      "cell_type": "code",
      "source": "SELECT\n    -- Pull in region and calculate avg tallest height\n    region,\n    AVG(height) AS avg_tallest\nFROM countries AS c\nJOIN\n    (SELECT \n     \t-- Pull in country_id and height\n        country_id, \n        height, \n        -- Number the height of each country's athletes\n        ROW_NUMBER() OVER (PARTITION BY country_id ORDER BY height DESC) AS row_num\n    FROM winter_games AS w \n    JOIN athletes AS a \n    ON w.athlete_id = a.id\n    GROUP BY country_id, height\n    -- Alias as subquery\n    ORDER BY country_id, height DESC) AS subquery\nON c.id = subquery.country_id\n-- Only include the tallest height for each country\nWHERE row_num = 1\nGROUP BY region;",
      "metadata": {},
      "execution_count": null,
      "outputs": []
    },
    {
      "cell_type": "code",
      "source": "SELECT\n    -- Pull in region and calculate avg tallest height\n    region,\n    AVG(height) AS avg_tallest,\n    -- Calculate region's percent of world gdp\n    SUM(gdp)/SUM(SUM(gdp)) OVER () AS perc_world_gdp    \nFROM countries AS c\nJOIN\n    (SELECT \n     \t-- Pull in country_id and height\n        country_id, \n        height, \n        -- Number the height of each country's athletes\n        ROW_NUMBER() OVER (PARTITION BY country_id ORDER BY height DESC) AS row_num\n    FROM winter_games AS w \n    JOIN athletes AS a ON w.athlete_id = a.id\n    GROUP BY country_id, height\n    -- Alias as subquery\n    ORDER BY country_id, height DESC) AS subquery\nON c.id = subquery.country_id\n-- Join to country_stats\nJOIN country_stats AS cs \nON cs.country_id = c.id\n-- Only include the tallest height for each country\nWHERE row_num = 1\nGROUP BY region;",
      "metadata": {},
      "execution_count": null,
      "outputs": []
    }
  ]
}