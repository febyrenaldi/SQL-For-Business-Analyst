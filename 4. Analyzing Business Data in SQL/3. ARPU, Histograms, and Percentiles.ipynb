{
  "metadata": {
    "language_info": {
      "codemirror_mode": "sql",
      "file_extension": "",
      "mimetype": "",
      "name": "sql",
      "version": "3.32.3"
    },
    "kernelspec": {
      "name": "SQLite",
      "display_name": "SQLite",
      "language": "sql"
    }
  },
  "nbformat_minor": 4,
  "nbformat": 4,
  "cells": [
    {
      "cell_type": "markdown",
      "source": "Average revenue per user",
      "metadata": {}
    },
    {
      "cell_type": "code",
      "source": "SELECT\n  -- Select the user ID and calculate revenue\n  o.user_id,\n  SUM(m.meal_price * o.order_quantity) AS revenue\nFROM meals AS m\nJOIN orders AS o ON m.meal_id = o.meal_id\nGROUP BY user_id;",
      "metadata": {},
      "execution_count": null,
      "outputs": []
    },
    {
      "cell_type": "code",
      "source": "-- Create a CTE named kpi\nWITH kpi AS(\n  SELECT\n    -- Select the user ID and calculate revenue\n    user_id,\n    SUM(m.meal_price * o.order_quantity) AS revenue\n  FROM meals AS m\n  JOIN orders AS o ON m.meal_id = o.meal_id\n  GROUP BY user_id)\n-- Calculate ARPU\nSELECT ROUND(AVG(revenue) :: NUMERIC, 2) AS arpu\nFROM kpi;",
      "metadata": {},
      "execution_count": null,
      "outputs": []
    },
    {
      "cell_type": "markdown",
      "source": "ARPU per week",
      "metadata": {}
    },
    {
      "cell_type": "code",
      "source": "WITH kpi AS (\n  SELECT\n    -- Select the week, revenue, and count of users\n    DATE_TRUNC('week', order_date) :: DATE AS delivr_week,\n    SUM(meal_price * order_quantity) AS revenue,\n    COUNT(*) AS users\n  FROM meals AS m\n  JOIN orders AS o ON m.meal_id = o.meal_id\n  GROUP BY delivr_week)\n\nSELECT\n  delivr_week,\n  -- Calculate ARPU\n  ROUND(\n    revenue :: NUMERIC / GREATEST(users, 1),\n  2) AS arpu\nFROM kpi\n-- Order by week in ascending order\nORDER BY delivr_week ASC;",
      "metadata": {},
      "execution_count": null,
      "outputs": []
    },
    {
      "cell_type": "markdown",
      "source": "Average orders per user",
      "metadata": {}
    },
    {
      "cell_type": "code",
      "source": "WITH kpi AS (\n  SELECT\n    -- Select the count of orders and users\n    COUNT(DISTINCT order_id) AS orders,\n    COUNT(DISTINCT user_id) AS users\n  FROM orders)\n\nSELECT\n  -- Calculate the average orders per user\n  ROUND(\n    orders :: NUMERIC / GREATEST(users, 1),\n  2) AS arpu\nFROM kpi;",
      "metadata": {},
      "execution_count": null,
      "outputs": []
    },
    {
      "cell_type": "markdown",
      "source": "Histogram of revenue",
      "metadata": {}
    },
    {
      "cell_type": "code",
      "source": "WITH user_revenues AS (\n  SELECT\n    -- Select the user ID and revenue\n    o.user_id,\n    SUM(m.meal_price * o.order_quantity) AS revenue\n  FROM meals AS m\n  JOIN orders AS o ON m.meal_id = o.meal_id\n  GROUP BY user_id)\n\nSELECT\n  -- Return the frequency table of revenues by user\n  ROUND(revenue :: NUMERIC, -2) AS revenue_100,\n  COUNT(DISTINCT user_id) AS users\nFROM user_revenues\nGROUP BY revenue_100\nORDER BY revenue_100 ASC;",
      "metadata": {},
      "execution_count": null,
      "outputs": []
    },
    {
      "cell_type": "markdown",
      "source": "Histogram of orders",
      "metadata": {}
    },
    {
      "cell_type": "code",
      "source": "SELECT\n  -- Select the user ID and the count of orders\n  user_id,\n  COUNT(DISTINCT order_id) AS orders\nFROM orders\nGROUP BY user_id\nORDER BY user_id ASC\nLIMIT 5;",
      "metadata": {},
      "execution_count": null,
      "outputs": []
    },
    {
      "cell_type": "code",
      "source": "WITH user_orders AS (\n  SELECT\n    user_id,\n    COUNT(DISTINCT order_id) AS orders\n  FROM orders\n  GROUP BY user_id)\n\nSELECT\n  -- Return the frequency table of orders by user\n  orders,\n  COUNT(DISTINCT user_id) AS users\nFROM user_orders\nGROUP BY orders\nORDER BY orders ASC;",
      "metadata": {},
      "execution_count": null,
      "outputs": []
    },
    {
      "cell_type": "markdown",
      "source": "Bucketing users by revenue",
      "metadata": {}
    },
    {
      "cell_type": "code",
      "source": "WITH user_revenues AS (\n  SELECT\n    -- Select the user IDs and the revenues they generate\n    o.user_id,\n    SUM(m.meal_price * o. order_quantity) AS revenue\n  FROM meals AS m\n  JOIN orders AS o ON m.meal_id = o.meal_id\n  GROUP BY user_id)\n\nSELECT\n  -- Fill in the bucketing conditions\n  CASE\n    WHEN revenue < 150 THEN 'Low-revenue users'\n    WHEN revenue < 300 THEN 'Mid-revenue users'\n    ELSE 'High-revenue users'\n  END AS revenue_group,\n  COUNT(DISTINCT user_id) AS users\nFROM user_revenues\nGROUP BY revenue_group;",
      "metadata": {},
      "execution_count": null,
      "outputs": []
    },
    {
      "cell_type": "markdown",
      "source": "Bucketing users by orders",
      "metadata": {}
    },
    {
      "cell_type": "code",
      "source": "-- Store each user's count of orders in a CTE named user_orders\nWITH user_orders AS (\n  SELECT\n    user_id,\n    COUNT(DISTINCT order_id) AS orders\n  FROM orders\n  GROUP BY user_id)\n\nSELECT\n  -- Write the conditions for the three buckets\n  CASE\n    WHEN orders < 8 THEN 'Low-orders users'\n    WHEN orders < 15 THEN 'Mid-orders users'\n    ELSE 'High-orders users'\n  END AS order_group,\n  -- Count the distinct users in each bucket\n  COUNT(DISTINCT user_id) AS users\nFROM user_orders\nGROUP BY order_group;",
      "metadata": {},
      "execution_count": null,
      "outputs": []
    },
    {
      "cell_type": "markdown",
      "source": "Revenue quartiles",
      "metadata": {}
    },
    {
      "cell_type": "code",
      "source": "WITH user_revenues AS (\n  -- Select the user IDs and their revenues\n  SELECT\n    o.user_id,\n    SUM(m.meal_price * o. order_quantity) AS revenue\n  FROM meals AS m\n  JOIN orders AS o ON m.meal_id = o.meal_id\n  GROUP BY user_id)\n\nSELECT\n  -- Calculate the first, second, and third quartile\n  ROUND(\n    PERCENTILE_CONT(0.25) WITHIN GROUP (ORDER BY revenue ASC) :: numeric,\n  2) AS revenue_p25,\n  ROUND(\n    PERCENTILE_CONT(0.5) WITHIN GROUP (ORDER BY revenue ASC) :: numeric,\n  2) AS revenue_p50,\n  ROUND(\n    PERCENTILE_CONT(0.75) WITHIN GROUP (ORDER BY revenue ASC) :: numeric,\n  2) AS revenue_p75,\n  -- Calculate the average\n  ROUND(AVG(revenue) :: numeric, 2) AS avg_revenue\nFROM user_revenues;",
      "metadata": {},
      "execution_count": null,
      "outputs": []
    },
    {
      "cell_type": "markdown",
      "source": "Interquartile range",
      "metadata": {}
    },
    {
      "cell_type": "code",
      "source": "SELECT\n  -- Select user_id and calculate revenue by user\n  o.user_id,\n  SUM(m.meal_price * o.order_quantity) AS revenue\nFROM meals AS m\nJOIN orders AS o ON m.meal_id = o.meal_id\nGROUP BY o.user_id;",
      "metadata": {},
      "execution_count": null,
      "outputs": []
    },
    {
      "cell_type": "code",
      "source": "-- Create a CTE named user_revenues\nWITH user_revenues AS (\n  SELECT\n    -- Select user_id and calculate revenue by user \n    user_id,\n    SUM(m.meal_price * o.order_quantity) AS revenue\n  FROM meals AS m\n  JOIN orders AS o ON m.meal_id = o.meal_id\n  GROUP BY user_id)\n\nSELECT\n  -- Calculate the first and third revenue quartiles\n  ROUND(\n    PERCENTILE_CONT(0.25) WITHIN GROUP (ORDER BY revenue ASC) :: NUMERIC,\n  2) AS revenue_p25,\n  ROUND(\n    PERCENTILE_CONT(0.75) WITHIN GROUP (ORDER BY revenue ASC) :: NUMERIC,\n  2) AS revenue_p75\nFROM user_revenues;",
      "metadata": {},
      "execution_count": null,
      "outputs": []
    },
    {
      "cell_type": "code",
      "source": "WITH user_revenues AS (\n  SELECT\n    -- Select user_id and calculate revenue by user \n    user_id,\n    SUM(m.meal_price * o.order_quantity) AS revenue\n  FROM meals AS m\n  JOIN orders AS o ON m.meal_id = o.meal_id\n  GROUP BY user_id),\n\n  quartiles AS (\n  SELECT\n    -- Calculate the first and third revenue quartiles\n    ROUND(\n      PERCENTILE_CONT(0.25) WITHIN GROUP\n      (ORDER BY revenue ASC) :: NUMERIC,\n    2) AS revenue_p25,\n    ROUND(\n      PERCENTILE_CONT(0.75) WITHIN GROUP\n      (ORDER BY revenue ASC) :: NUMERIC,\n    2) AS revenue_p75\n  FROM user_revenues)\n\nSELECT\n  -- Count the number of users in the IQR\n  COUNT(DISTINCT user_id) AS users\nFROM user_revenues\nCROSS JOIN quartiles\n-- Only keep users with revenues in the IQR range\nWHERE revenue :: NUMERIC >= revenue_p25\n  AND revenue :: NUMERIC <= revenue_p75;",
      "metadata": {},
      "execution_count": null,
      "outputs": []
    }
  ]
}