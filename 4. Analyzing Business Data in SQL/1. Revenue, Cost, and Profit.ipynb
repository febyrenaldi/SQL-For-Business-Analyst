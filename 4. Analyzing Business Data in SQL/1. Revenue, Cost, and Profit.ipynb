{
  "metadata": {
    "language_info": {
      "codemirror_mode": "sql",
      "file_extension": "",
      "mimetype": "",
      "name": "sql",
      "version": "3.32.3"
    },
    "kernelspec": {
      "name": "SQLite",
      "display_name": "SQLite",
      "language": "sql"
    }
  },
  "nbformat_minor": 4,
  "nbformat": 4,
  "cells": [
    {
      "cell_type": "markdown",
      "source": "Revenue per customer",
      "metadata": {}
    },
    {
      "cell_type": "code",
      "source": "-- Calculate revenue\nSELECT SUM(meal_price * order_quantity) AS revenue\nFROM meals\nJOIN orders \nON meals.meal_id = orders.meal_id\n-- Keep only the records of customer ID 15\nWHERE user_id = 15;",
      "metadata": {},
      "execution_count": null,
      "outputs": []
    },
    {
      "cell_type": "markdown",
      "source": "Revenue per week",
      "metadata": {}
    },
    {
      "cell_type": "code",
      "source": "-- Write the expression for revenue.\nSELECT \n  DATE_TRUNC('week', order_date) :: DATE AS delivr_week,\n  -- Calculate revenue\n  SUM(meal_price * order_quantity) AS revenue\nFROM meals\nJOIN orders \nON meals.meal_id = orders.meal_id\n-- Keep only the records in June 2018\nWHERE DATE_TRUNC('month', order_date) = '2018-06-01'\nGROUP BY delivr_week\nORDER BY delivr_week ASC;",
      "metadata": {},
      "execution_count": null,
      "outputs": []
    },
    {
      "cell_type": "markdown",
      "source": "Top meals by cost",
      "metadata": {}
    },
    {
      "cell_type": "code",
      "source": "SELECT\n  -- Calculate cost per meal ID\n  meals.meal_id,\n  SUM(meal_cost * stocked_quantity) AS cost\nFROM meals\nJOIN stock ON meals.meal_id = stock.meal_id\nGROUP BY meals.meal_id\nORDER BY cost DESC\n-- Only the top 5 meal IDs by purchase cost\nLIMIT 5;\n\nSELECT\n  m.meal_id, \n  SUM(m.meal_cost * s.stocked_quantity) AS cost\nFROM meals AS m\nINNER JOIN stock AS s\nON m.meal_id = s.meal_id\nGROUP BY m.meal_id\nORDER BY cost DESC\nLIMIT 5;",
      "metadata": {},
      "execution_count": null,
      "outputs": []
    },
    {
      "cell_type": "markdown",
      "source": "Using CTEs",
      "metadata": {}
    },
    {
      "cell_type": "code",
      "source": "SELECT\n  -- Calculate cost\n  DATE_TRUNC('month', stocking_date)::DATE AS delivr_month,\n  SUM(meal_cost * stocked_quantity) AS cost\nFROM meals\nJOIN stock ON meals.meal_id = stock.meal_id\nGROUP BY delivr_month\nORDER BY delivr_month ASC;",
      "metadata": {},
      "execution_count": null,
      "outputs": []
    },
    {
      "cell_type": "code",
      "source": "-- Declare a CTE named monthly_cost\nWITH monthly_cost AS (\n  SELECT\n    DATE_TRUNC('month', stocking_date)::DATE AS delivr_month,\n    SUM(meal_cost * stocked_quantity) AS cost\n  FROM meals\n  JOIN stock ON meals.meal_id = stock.meal_id\n  GROUP BY delivr_month)\n\nSELECT *\nFROM monthly_cost;",
      "metadata": {},
      "execution_count": null,
      "outputs": []
    },
    {
      "cell_type": "code",
      "source": "-- Declare a CTE named monthly_cost\nWITH monthly_cost AS (\n  SELECT\n    DATE_TRUNC('month', stocking_date)::DATE AS delivr_month,\n    SUM(meal_cost * stocked_quantity) AS cost\n  FROM meals\n  JOIN stock ON meals.meal_id = stock.meal_id\n  GROUP BY delivr_month)\n\nSELECT\n  -- Calculate the average monthly cost before September\n  AVG(cost)\nFROM monthly_cost\nWHERE delivr_month < '2018-09-01';",
      "metadata": {},
      "execution_count": null,
      "outputs": []
    },
    {
      "cell_type": "markdown",
      "source": "Profit per eatery",
      "metadata": {}
    },
    {
      "cell_type": "code",
      "source": "WITH revenue AS (\n  -- Calculate revenue per eatery\n  SELECT eatery,\n         SUM(meal_price * order_quantity) AS revenue\n    FROM meals\n    JOIN orders ON meals.meal_id = orders.meal_id\n   GROUP BY eatery),\n\n  cost AS (\n  -- Calculate cost per eatery\n  SELECT eatery,\n         SUM(meal_cost * stocked_quantity) AS cost\n    FROM meals\n    JOIN stock ON meals.meal_id = stock.meal_id\n   GROUP BY eatery)\n\n-- Calculate profit per eatery\nSELECT \n  revenue.eatery,\n  revenue - cost AS profit\nFROM revenue\nJOIN cost ON revenue.eatery = cost.eatery\nORDER BY profit DESC;",
      "metadata": {},
      "execution_count": null,
      "outputs": []
    },
    {
      "cell_type": "markdown",
      "source": "Profit per month",
      "metadata": {}
    },
    {
      "cell_type": "code",
      "source": "-- Set up the revenue CTE\nWITH revenue AS ( \nSELECT\n    DATE_TRUNC('month', order_date) :: DATE AS delivr_month,\n    SUM(meal_price * order_quantity) AS revenue\nFROM meals\nJOIN orders ON meals.meal_id = orders.meal_id\nGROUP BY delivr_month),\n-- Set up the cost CTE\ncost AS (\nSELECT\n    DATE_TRUNC('month', stocking_date) :: DATE AS delivr_month,\n    SUM(meal_cost * stocked_quantity) AS cost\nFROM meals\nJOIN stock \n    ON meals.meal_id = stock.meal_id\nGROUP BY delivr_month)\n-- Calculate profit by joining the CTEs\nSELECT\n    revenue.delivr_month,\n    revenue - cost AS profit\nFROM revenue\nJOIN cost \n    ON revenue.delivr_month = cost.delivr_month\nORDER BY revenue.delivr_month ASC;",
      "metadata": {},
      "execution_count": null,
      "outputs": []
    }
  ]
}