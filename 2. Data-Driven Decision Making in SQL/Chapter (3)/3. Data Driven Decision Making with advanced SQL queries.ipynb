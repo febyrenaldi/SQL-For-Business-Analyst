{
  "metadata": {
    "language_info": {
      "codemirror_mode": "sql",
      "file_extension": "",
      "mimetype": "",
      "name": "sql",
      "version": "3.32.3"
    },
    "kernelspec": {
      "name": "SQLite",
      "display_name": "SQLite",
      "language": "sql"
    }
  },
  "nbformat_minor": 4,
  "nbformat": 4,
  "cells": [
    {
      "cell_type": "markdown",
      "source": "Often rented movies",
      "metadata": {}
    },
    {
      "cell_type": "code",
      "source": "SELECT movie_id -- Select movie IDs with more than 5 views\nFROM renting\nGROUP BY movie_id\nHAVING COUNT(*) > 5\nORDER BY movie_id",
      "metadata": {},
      "execution_count": null,
      "outputs": []
    },
    {
      "cell_type": "code",
      "source": "SELECT *\nFROM movies\nWHERE movie_id IN  -- Select movie IDs from the inner query\n    (SELECT movie_id\n    FROM renting\n    GROUP BY movie_id\n    HAVING COUNT(*) > 5\n    ORDER BY movie_id)",
      "metadata": {},
      "execution_count": null,
      "outputs": []
    },
    {
      "cell_type": "markdown",
      "source": "Frequent customers",
      "metadata": {}
    },
    {
      "cell_type": "code",
      "source": "SELECT *\nFROM customers\nWHERE customer_id IN -- Select all customers with more than 10 movie rentals\n    (SELECT customer_id\n    FROM renting\n    GROUP BY customer_id\n    HAVING COUNT(*) > 10\n    ORDER BY customer_id);",
      "metadata": {},
      "execution_count": null,
      "outputs": []
    },
    {
      "cell_type": "markdown",
      "source": "Movies with rating above average",
      "metadata": {}
    },
    {
      "cell_type": "code",
      "source": "SELECT AVG(rating) -- Calculate the total average rating\nFROM renting;",
      "metadata": {},
      "execution_count": null,
      "outputs": []
    },
    {
      "cell_type": "code",
      "source": "SELECT \n    movie_id,  -- Select movie IDs and calculate the average rating \n    AVG(rating)\nFROM renting\nGROUP BY movie_id\nHAVING AVG(rating) >  -- Of movies with rating above average\n        (SELECT AVG(rating)\n        FROM renting);",
      "metadata": {},
      "execution_count": null,
      "outputs": []
    },
    {
      "cell_type": "code",
      "source": "SELECT title -- Report the movie titles of all movies with average rating higher than the total average\nFROM movies\nWHERE movie_id IN\n    (SELECT movie_id\n     FROM renting\n     GROUP BY movie_id\n     HAVING AVG(rating) > \n        (SELECT AVG(rating)\n         FROM renting)\n     ORDER BY movie_id);",
      "metadata": {},
      "execution_count": null,
      "outputs": []
    },
    {
      "cell_type": "markdown",
      "source": "Analyzing customer behavior",
      "metadata": {}
    },
    {
      "cell_type": "code",
      "source": "-- Count movie rentals of customer 45\nSELECT COUNT(*)\nFROM renting as r\nWHERE r.customer_id = 45;",
      "metadata": {},
      "execution_count": null,
      "outputs": []
    },
    {
      "cell_type": "code",
      "source": "-- Select customers with less than 5 movie rentals\nSELECT *\nFROM customers as c\nWHERE 5 > \n    (SELECT COUNT(*)\n     FROM renting as r\n     WHERE r.customer_id=c.customer_id);",
      "metadata": {},
      "execution_count": null,
      "outputs": []
    },
    {
      "cell_type": "markdown",
      "source": "Customers who gave low ratings",
      "metadata": {}
    },
    {
      "cell_type": "code",
      "source": "-- Calculate the minimum rating of customer with ID 7\nSELECT MIN(rating)\nFROM renting\nWHERE customer_id = 7;",
      "metadata": {},
      "execution_count": null,
      "outputs": []
    },
    {
      "cell_type": "code",
      "source": "SELECT *\nFROM customers AS c\nWHERE 4 >  -- Select all customers with a minimum rating smaller than 4\n    (SELECT MIN(rating)\n     FROM renting AS r\n     WHERE r.customer_id = c.customer_id);",
      "metadata": {},
      "execution_count": null,
      "outputs": []
    },
    {
      "cell_type": "markdown",
      "source": "Movies and ratings with correlated queries",
      "metadata": {}
    },
    {
      "cell_type": "code",
      "source": "SELECT *\nFROM movies AS m\nWHERE 5 < -- Select all movies with more than 5 ratings\n    (SELECT COUNT(rating)\n     FROM renting AS r\n     WHERE r.movie_id = m.movie_id);",
      "metadata": {},
      "execution_count": null,
      "outputs": []
    },
    {
      "cell_type": "code",
      "source": "SELECT *\nFROM movies AS m\nWHERE 8 <  -- Select all movies with an average rating higher than 8\n    (SELECT AVG(rating)\n     FROM renting AS r\n     WHERE r.movie_id = m.movie_id);",
      "metadata": {},
      "execution_count": null,
      "outputs": []
    },
    {
      "cell_type": "markdown",
      "source": "Customers with at least one rating",
      "metadata": {}
    },
    {
      "cell_type": "code",
      "source": "-- Select all records of movie rentals from customer with ID 115\nSELECT *\nFROM renting\nWHERE customer_id = 115;",
      "metadata": {},
      "execution_count": null,
      "outputs": []
    },
    {
      "cell_type": "code",
      "source": "SELECT *\nFROM renting\nWHERE rating IS NOT NULL -- Exclude those with null ratings\n    AND customer_id = 115;",
      "metadata": {},
      "execution_count": null,
      "outputs": []
    },
    {
      "cell_type": "code",
      "source": "SELECT *\nFROM renting\nWHERE rating IS NOT NULL -- Exclude null ratings\n    AND customer_id = 1; -- Select all ratings from customer with ID 1",
      "metadata": {},
      "execution_count": null,
      "outputs": []
    },
    {
      "cell_type": "code",
      "source": "SELECT *\nFROM customers AS c -- Select all customers with at least one rating\nWHERE EXISTS\n    (SELECT *\n     FROM renting AS r\n     WHERE rating IS NOT NULL \n     AND r.customer_id = c.customer_id);",
      "metadata": {},
      "execution_count": null,
      "outputs": []
    },
    {
      "cell_type": "markdown",
      "source": "Actors in comedies",
      "metadata": {}
    },
    {
      "cell_type": "code",
      "source": "SELECT *  -- Select the records of all actors who play in a Comedy\nFROM actsin AS ai\nLEFT JOIN movies AS m\n    ON ai.movie_id = m.movie_id\nWHERE m.genre = 'Comedy';",
      "metadata": {},
      "execution_count": null,
      "outputs": []
    },
    {
      "cell_type": "code",
      "source": "SELECT *\nFROM actsin AS ai\nLEFT JOIN movies AS m\n    ON m.movie_id = ai.movie_id\nWHERE m.genre = 'Comedy'\n    AND ai.actor_id = 1; -- Select only the actor with ID 1",
      "metadata": {},
      "execution_count": null,
      "outputs": []
    },
    {
      "cell_type": "code",
      "source": "SELECT *\nFROM actors AS a\nWHERE EXISTS\n    (SELECT *\n     FROM actsin AS ai\n     LEFT JOIN movies AS m\n         ON m.movie_id = ai.movie_id\n     WHERE m.genre = 'Comedy'\n         AND ai.actor_id = a.actor_id);",
      "metadata": {},
      "execution_count": null,
      "outputs": []
    },
    {
      "cell_type": "code",
      "source": "SELECT \n    -- Report the nationality and number of actors for each nationality\n    a.nationality,  \n    COUNT(*) \nFROM actors AS a\nWHERE EXISTS\n    (SELECT ai.actor_id\n     FROM actsin AS ai\n     LEFT JOIN movies AS m\n        ON m.movie_id = ai.movie_id\n     WHERE m.genre = 'Comedy'\n         AND ai.actor_id = a.actor_id)\nGROUP BY a.nationality;",
      "metadata": {},
      "execution_count": null,
      "outputs": []
    },
    {
      "cell_type": "markdown",
      "source": "Young actors not coming from the USA",
      "metadata": {}
    },
    {
      "cell_type": "code",
      "source": "SELECT \n    name,   -- Report the name, nationality and the year of birth\n    nationality, \n    year_of_birth\nFROM actors\nWHERE nationality <> 'USA'; -- Of all actors who are not from the USA",
      "metadata": {},
      "execution_count": null,
      "outputs": []
    },
    {
      "cell_type": "code",
      "source": "SELECT \n    name, -- Report the name, nationality and the year of birth\n    nationality, \n    year_of_birth\nFROM actors\nWHERE year_of_birth > '1990'; -- Of all actors who are not from the USA",
      "metadata": {},
      "execution_count": null,
      "outputs": []
    },
    {
      "cell_type": "code",
      "source": "SELECT \n    name, \n    nationality, \n    year_of_birth\nFROM actors\nWHERE nationality <> 'USA'\nUNION -- Select all actors who are not from the USA and all actors who are born after 1990\nSELECT \n    name, \n    nationality, \n    year_of_birth\nFROM actors\nWHERE year_of_birth > 1990;",
      "metadata": {},
      "execution_count": null,
      "outputs": []
    },
    {
      "cell_type": "code",
      "source": "SELECT \n    name, \n    nationality, \n    year_of_birth\nFROM actors\nWHERE nationality <> 'USA'\nINTERSECT -- Select all actors who are not from the USA and who are also born after 1990\nSELECT \n    name, \n    nationality, \n    year_of_birth\nFROM actors\nWHERE year_of_birth > 1990;",
      "metadata": {},
      "execution_count": null,
      "outputs": []
    },
    {
      "cell_type": "markdown",
      "source": "Dramas with high ratings",
      "metadata": {}
    },
    {
      "cell_type": "code",
      "source": "SELECT movie_id -- Select the IDs of all dramas\nFROM movies\nWHERE genre = 'Drama';",
      "metadata": {},
      "execution_count": null,
      "outputs": []
    },
    {
      "cell_type": "code",
      "source": "SELECT movie_id -- Select the IDs of all movies with average rating higher than 9\nFROM renting\nGROUP BY movie_id\nHAVING AVG(rating) > 9;",
      "metadata": {},
      "execution_count": null,
      "outputs": []
    },
    {
      "cell_type": "code",
      "source": "SELECT movie_id\nFROM movies\nWHERE genre = 'Drama'\nINTERSECT  -- Select the IDs of all dramas with average rating higher than 9\nSELECT movie_id\nFROM renting\nGROUP BY movie_id\nHAVING AVG(rating)>9;",
      "metadata": {},
      "execution_count": null,
      "outputs": []
    },
    {
      "cell_type": "code",
      "source": "SELECT *\nFROM movies\nWHERE movie_id IN -- Select all movies of genre drama with average rating higher than 9\n   (SELECT movie_id\n    FROM movies\n    WHERE genre = 'Drama'\n    INTERSECT\n    SELECT movie_id\n    FROM renting\n    GROUP BY movie_id\n    HAVING AVG(rating)>9);",
      "metadata": {},
      "execution_count": null,
      "outputs": []
    }
  ]
}