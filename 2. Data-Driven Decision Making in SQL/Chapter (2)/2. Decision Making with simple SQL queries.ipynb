{
  "cells": [
    {
      "attachments": {},
      "cell_type": "markdown",
      "metadata": {},
      "source": [
        "First account for each country"
      ]
    },
    {
      "cell_type": "code",
      "execution_count": null,
      "metadata": {},
      "outputs": [],
      "source": [
        "SELECT\n",
        "  country,\n",
        "  MIN(date_account_start) AS first_account\n",
        "FROM customers\n",
        "GROUP BY country\n",
        "ORDER BY first_account ASC;"
      ]
    },
    {
      "attachments": {},
      "cell_type": "markdown",
      "metadata": {},
      "source": [
        "Average movie ratings"
      ]
    },
    {
      "cell_type": "code",
      "execution_count": null,
      "metadata": {},
      "outputs": [],
      "source": [
        "SELECT \n",
        "    movie_id, \n",
        "    AVG(rating) -- Calculate average rating per movie\n",
        "FROM renting\n",
        "GROUP BY movie_id;"
      ]
    },
    {
      "cell_type": "code",
      "execution_count": null,
      "metadata": {},
      "outputs": [],
      "source": [
        "SELECT \n",
        "    movie_id, \n",
        "    AVG(rating) AS avg_rating, -- Use as alias avg_rating\n",
        "    COUNT(rating) AS number_rating, -- Add column for number of ratings with alias number_rating\n",
        "    COUNT(*) AS number_renting -- Add column for number of movie rentals with alias number_renting\n",
        "FROM renting\n",
        "GROUP BY movie_id;"
      ]
    },
    {
      "cell_type": "code",
      "execution_count": null,
      "metadata": {},
      "outputs": [],
      "source": [
        "SELECT \n",
        "    movie_id, \n",
        "    AVG(rating) AS avg_rating,\n",
        "    COUNT(rating) AS number_ratings,\n",
        "    COUNT(*) AS number_renting\n",
        "FROM renting\n",
        "GROUP BY movie_id\n",
        "ORDER BY avg_rating DESC; -- Order by average rating in decreasing order"
      ]
    },
    {
      "attachments": {},
      "cell_type": "markdown",
      "metadata": {},
      "source": [
        "Average rating per customer"
      ]
    },
    {
      "cell_type": "code",
      "execution_count": null,
      "metadata": {},
      "outputs": [],
      "source": [
        "SELECT \n",
        "    customer_id,  -- Report the customer_id\n",
        "    AVG(rating), -- Report the average rating per customer\n",
        "    COUNT(rating), -- Report the number of ratings per customer\n",
        "    COUNT(*) -- Report the number of movie rentals per customer\n",
        "FROM renting\n",
        "GROUP BY customer_id\n",
        "HAVING COUNT(*) > 7 -- Select only customers with more than 7 movie rentals\n",
        "ORDER BY AVG(rating); -- Order by the average rating in ascending order"
      ]
    },
    {
      "attachments": {},
      "cell_type": "markdown",
      "metadata": {},
      "source": [
        "Join renting and customers"
      ]
    },
    {
      "cell_type": "code",
      "execution_count": null,
      "metadata": {},
      "outputs": [],
      "source": [
        "SELECT * -- Join renting with customers\n",
        "FROM renting AS r\n",
        "LEFT JOIN customers AS c\n",
        "    ON r.customer_id = c.customer_id;"
      ]
    },
    {
      "cell_type": "code",
      "execution_count": null,
      "metadata": {},
      "outputs": [],
      "source": [
        "SELECT *\n",
        "FROM renting AS r\n",
        "LEFT JOIN customers AS c\n",
        "    ON r.customer_id = c.customer_id\n",
        "WHERE c.country = 'Belgium'; -- Select only records from customers coming from Belgium"
      ]
    },
    {
      "cell_type": "code",
      "execution_count": null,
      "metadata": {},
      "outputs": [],
      "source": [
        "SELECT \n",
        "    AVG(r.rating) -- Average ratings of customers from Belgium\n",
        "FROM renting AS r\n",
        "LEFT JOIN customers AS c\n",
        "    ON r.customer_id = c.customer_id\n",
        "WHERE c.country='Belgium';"
      ]
    },
    {
      "attachments": {},
      "cell_type": "markdown",
      "metadata": {},
      "source": [
        "Aggregating revenue, rentals and active customers"
      ]
    },
    {
      "cell_type": "code",
      "execution_count": null,
      "metadata": {},
      "outputs": [],
      "source": [
        "SELECT *\n",
        "FROM renting AS r\n",
        "LEFT JOIN movies AS m -- Choose the correct join statment\n",
        "    ON r.movie_id = m.movie_id;"
      ]
    },
    {
      "cell_type": "code",
      "execution_count": null,
      "metadata": {},
      "outputs": [],
      "source": [
        "SELECT \n",
        "    SUM(m.renting_price), -- Get the revenue from movie rentals\n",
        "    COUNT(*), -- Count the number of rentals\n",
        "    COUNT(DISTINCT r.customer_id)  -- Count the number of customers\n",
        "FROM renting AS r\n",
        "LEFT JOIN movies AS m\n",
        "    ON r.movie_id = m.movie_id;"
      ]
    },
    {
      "cell_type": "code",
      "execution_count": null,
      "metadata": {},
      "outputs": [],
      "source": [
        "SELECT \n",
        "    SUM(m.renting_price), \n",
        "    COUNT(*), \n",
        "    COUNT(DISTINCT r.customer_id)\n",
        "FROM renting AS r\n",
        "LEFT JOIN movies AS m\n",
        "    ON r.movie_id = m.movie_id\n",
        "-- Only look at movie rentals in 2018\n",
        "WHERE date_renting BETWEEN '2018-01-01' AND '2018-12-31' ;"
      ]
    },
    {
      "attachments": {},
      "cell_type": "markdown",
      "metadata": {},
      "source": [
        "Movies and actors"
      ]
    },
    {
      "cell_type": "code",
      "execution_count": null,
      "metadata": {},
      "outputs": [],
      "source": [
        "SELECT \n",
        "    a.name, -- Create a list of movie titles and actor names\n",
        "    m.title\n",
        "FROM actsin AS ai\n",
        "LEFT JOIN movies AS m\n",
        "    ON m.movie_id = ai.movie_id\n",
        "LEFT JOIN actors AS a\n",
        "    ON a.actor_id = ai.actor_id;"
      ]
    },
    {
      "attachments": {},
      "cell_type": "markdown",
      "metadata": {},
      "source": [
        "Income from movies"
      ]
    },
    {
      "cell_type": "code",
      "execution_count": null,
      "metadata": {},
      "outputs": [],
      "source": [
        "SELECT \n",
        "    m.title,  -- Use a join to get the movie title and price for each movie rental\n",
        "    m.renting_price\n",
        "FROM renting AS r\n",
        "LEFT JOIN movies AS m\n",
        "    ON r.movie_id=m.movie_id;"
      ]
    },
    {
      "cell_type": "code",
      "execution_count": null,
      "metadata": {},
      "outputs": [],
      "source": [
        "SELECT \n",
        "    rm.title, -- Report the income from movie rentals for each movie \n",
        "    SUM(rm.renting_price) AS income_movie\n",
        "FROM (\n",
        "    SELECT \n",
        "        m.title,  \n",
        "        m.renting_price\n",
        "    FROM renting AS r\n",
        "    LEFT JOIN movies AS m\n",
        "        ON r.movie_id = m.movie_id) AS rm\n",
        "GROUP BY rm.title\n",
        "ORDER BY income_movie DESC; -- Order the result by decreasing income\n"
      ]
    },
    {
      "attachments": {},
      "cell_type": "markdown",
      "metadata": {},
      "source": [
        "Age of actors from the USA"
      ]
    },
    {
      "cell_type": "code",
      "execution_count": null,
      "metadata": {},
      "outputs": [],
      "source": [
        "SELECT \n",
        "    a.gender, -- Report for male and female actors from the USA \n",
        "    MIN(a.year_of_birth), -- The year of birth of the oldest actor\n",
        "    MAX(a.year_of_birth) -- The year of birth of the youngest actor\n",
        "FROM (\n",
        "    SELECT * -- Use a subsequent SELECT to get all information about actors from the USA\n",
        "    FROM actors\n",
        "    WHERE nationality = 'USA') AS a -- Give the table the name a\n",
        "GROUP BY a.gender;"
      ]
    },
    {
      "attachments": {},
      "cell_type": "markdown",
      "metadata": {},
      "source": [
        "Identify favorite movies for a group of customers"
      ]
    },
    {
      "cell_type": "code",
      "execution_count": null,
      "metadata": {},
      "outputs": [],
      "source": [
        "SELECT *\n",
        "FROM renting AS r\n",
        "LEFT JOIN customers AS c\n",
        "    ON c.customer_id = r.customer_id  -- Add customer information\n",
        "LEFT JOIN movies AS m\n",
        "    ON m.movie_id = r.movie_id;   -- Add movie information"
      ]
    },
    {
      "cell_type": "code",
      "execution_count": null,
      "metadata": {},
      "outputs": [],
      "source": [
        "SELECT *\n",
        "FROM renting AS r\n",
        "LEFT JOIN customers AS c\n",
        "    ON c.customer_id = r.customer_id\n",
        "LEFT JOIN movies AS m\n",
        "    ON m.movie_id = r.movie_id\n",
        "WHERE c.date_of_birth BETWEEN '1970-01-01' AND '1979-12-31'; -- Select customers born in the 70s"
      ]
    },
    {
      "cell_type": "code",
      "execution_count": null,
      "metadata": {},
      "outputs": [],
      "source": [
        "SELECT \n",
        "    m.title, \n",
        "    COUNT(*), -- Report number of views per movie\n",
        "    AVG(r.rating) -- Report the average rating per movie\n",
        "FROM renting AS r\n",
        "LEFT JOIN customers AS c\n",
        "    ON c.customer_id = r.customer_id\n",
        "LEFT JOIN movies AS m\n",
        "    ON m.movie_id = r.movie_id\n",
        "WHERE c.date_of_birth BETWEEN '1970-01-01' AND '1979-12-31'\n",
        "GROUP BY m.title;"
      ]
    },
    {
      "cell_type": "code",
      "execution_count": null,
      "metadata": {},
      "outputs": [],
      "source": [
        "SELECT \n",
        "    m.title, \n",
        "    COUNT(*),\n",
        "    AVG(r.rating)\n",
        "FROM renting AS r\n",
        "LEFT JOIN customers AS c\n",
        "    ON c.customer_id = r.customer_id\n",
        "LEFT JOIN movies AS m\n",
        "    ON m.movie_id = r.movie_id\n",
        "WHERE c.date_of_birth BETWEEN '1970-01-01' AND '1979-12-31'\n",
        "GROUP BY m.title\n",
        "HAVING COUNT(*) > 1 -- Remove movies with only one rental\n",
        "ORDER BY AVG(r.rating); -- Order with highest rating first"
      ]
    },
    {
      "attachments": {},
      "cell_type": "markdown",
      "metadata": {},
      "source": [
        "Identify favorite actors for Spain"
      ]
    },
    {
      "cell_type": "code",
      "execution_count": null,
      "metadata": {},
      "outputs": [],
      "source": [
        "SELECT *\n",
        "FROM renting as r\n",
        "LEFT JOIN customers AS c -- Augment table renting with information about customers\n",
        "    ON r.customer_id = c.customer_id \n",
        "LEFT JOIN actsin as ai -- Join the table renting with the table actsin\n",
        "    ON r.movie_id = ai.movie_id\n",
        "LEFT JOIN actors as a -- Augment table renting with information about actors\n",
        "    ON ai.actor_id = a.actor_id;"
      ]
    },
    {
      "cell_type": "code",
      "execution_count": null,
      "metadata": {},
      "outputs": [],
      "source": [
        "SELECT \n",
        "    a.name,  \n",
        "    c.gender,\n",
        "    COUNT(*) AS number_views, \n",
        "    AVG(r.rating) AS avg_rating\n",
        "FROM renting as r\n",
        "LEFT JOIN customers AS c\n",
        "    ON r.customer_id = c.customer_id\n",
        "LEFT JOIN actsin as ai\n",
        "    ON r.movie_id = ai.movie_id\n",
        "LEFT JOIN actors as a\n",
        "    ON ai.actor_id = a.actor_id\n",
        "\n",
        "GROUP BY \n",
        "    a.name,\n",
        "    c.gender  -- For each actor, separately for male and female customers\n",
        "HAVING AVG(r.rating) IS NOT NULL \n",
        "  AND COUNT(*) > 5 -- Report only actors with more than 5 movie rentals\n",
        "ORDER BY \n",
        "    avg_rating DESC, \n",
        "    number_views DESC;"
      ]
    },
    {
      "cell_type": "code",
      "execution_count": null,
      "metadata": {},
      "outputs": [],
      "source": [
        "SELECT \n",
        "    a.name,  \n",
        "    c.gender,\n",
        "    COUNT(*) AS number_views, \n",
        "    AVG(r.rating) AS avg_rating\n",
        "FROM renting as r\n",
        "LEFT JOIN customers AS c\n",
        "    ON r.customer_id = c.customer_id\n",
        "LEFT JOIN actsin as ai\n",
        "    ON r.movie_id = ai.movie_id\n",
        "LEFT JOIN actors as a\n",
        "    ON ai.actor_id = a.actor_id\n",
        "WHERE c.country = 'Spain'-- Select only customers from Spain\n",
        "GROUP BY \n",
        "    a.name, \n",
        "    c.gender\n",
        "HAVING AVG(r.rating) IS NOT NULL \n",
        "  AND COUNT(*) > 5 \n",
        "ORDER BY \n",
        "    avg_rating DESC, \n",
        "    number_views DESC;"
      ]
    },
    {
      "attachments": {},
      "cell_type": "markdown",
      "metadata": {},
      "source": [
        "KPIs per country"
      ]
    },
    {
      "cell_type": "code",
      "execution_count": null,
      "metadata": {},
      "outputs": [],
      "source": [
        "SELECT *\n",
        "FROM renting AS r -- Augment the table renting with information about customers\n",
        "LEFT JOIN customers AS c\n",
        "    ON c.customer_id = r.customer_id\n",
        "LEFT JOIN movies AS m -- Augment the table renting with information about movies\n",
        "    ON r.movie_id = m.movie_id\n",
        "WHERE date_renting >= '2019-01-01'; -- Select only records about rentals since beginning of 2019"
      ]
    },
    {
      "cell_type": "code",
      "execution_count": null,
      "metadata": {},
      "outputs": [],
      "source": [
        "SELECT \n",
        "    c.country, -- For each country report\n",
        "    COUNT(*) AS number_renting, -- The number of movie rentals\n",
        "    AVG(r.rating) AS average_rating, -- The average rating\n",
        "    SUM(m.renting_price) AS revenue -- The revenue from movie rentals\n",
        "FROM renting AS r\n",
        "LEFT JOIN customers AS c\n",
        "    ON c.customer_id = r.customer_id\n",
        "LEFT JOIN movies AS m\n",
        "    ON m.movie_id = r.movie_id\n",
        "WHERE date_renting >= '2019-01-01'\n",
        "GROUP BY c.country;"
      ]
    }
  ],
  "metadata": {
    "kernelspec": {
      "display_name": "SQLite",
      "language": "sql",
      "name": "SQLite"
    },
    "language_info": {
      "codemirror_mode": "sql",
      "file_extension": "",
      "mimetype": "",
      "name": "sql",
      "version": "3.32.3"
    }
  },
  "nbformat": 4,
  "nbformat_minor": 4
}
