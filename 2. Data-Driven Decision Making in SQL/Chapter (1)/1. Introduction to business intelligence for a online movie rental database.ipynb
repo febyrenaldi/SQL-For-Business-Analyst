{
  "cells": [
    {
      "attachments": {},
      "cell_type": "markdown",
      "metadata": {},
      "source": [
        "Exploring the table renting"
      ]
    },
    {
      "cell_type": "code",
      "execution_count": null,
      "metadata": {},
      "outputs": [],
      "source": [
        "SELECT *  -- Select all\n",
        "FROM renting; -- From table renting"
      ]
    },
    {
      "cell_type": "code",
      "execution_count": null,
      "metadata": {},
      "outputs": [],
      "source": [
        "SELECT\n",
        "  movie_id,\n",
        "  rating\n",
        "FROM renting;"
      ]
    },
    {
      "attachments": {},
      "cell_type": "markdown",
      "metadata": {},
      "source": [
        "Working with datesExploring the table renting"
      ]
    },
    {
      "cell_type": "code",
      "execution_count": null,
      "metadata": {},
      "outputs": [],
      "source": [
        "SELECT *\n",
        "FROM renting\n",
        "WHERE date_renting = '2018-10-09'; -- Movies rented on October 9th, 2018"
      ]
    },
    {
      "cell_type": "code",
      "execution_count": null,
      "metadata": {},
      "outputs": [],
      "source": [
        "SELECT *\n",
        "FROM renting\n",
        "WHERE date_renting BETWEEN '2018-04-01' AND '2018-08-31'; -- from beginning April 2018 to end August 2018"
      ]
    },
    {
      "cell_type": "code",
      "execution_count": null,
      "metadata": {},
      "outputs": [],
      "source": [
        "SELECT *\n",
        "FROM renting\n",
        "WHERE date_renting BETWEEN '2018-04-01' AND '2018-08-31'\n",
        "ORDER BY date_renting ASC; -- Order by recency in decreasing order"
      ]
    },
    {
      "attachments": {},
      "cell_type": "markdown",
      "metadata": {},
      "source": [
        "Selecting movies"
      ]
    },
    {
      "cell_type": "code",
      "execution_count": null,
      "metadata": {},
      "outputs": [],
      "source": [
        "SELECT *\n",
        "FROM movies\n",
        "WHERE genre <> 'Drama'; -- All genres except drama"
      ]
    },
    {
      "cell_type": "code",
      "execution_count": null,
      "metadata": {},
      "outputs": [],
      "source": [
        "SELECT *\n",
        "FROM movies\n",
        "WHERE title IN ('Showtime', 'Love Actually', 'The Fighter'); -- Select all movies with the given titles"
      ]
    },
    {
      "cell_type": "code",
      "execution_count": null,
      "metadata": {},
      "outputs": [],
      "source": [
        "SELECT *\n",
        "FROM movies\n",
        "ORDER BY renting_price; -- Order the movies by increasing renting price"
      ]
    },
    {
      "attachments": {},
      "cell_type": "markdown",
      "metadata": {},
      "source": [
        "Select from renting"
      ]
    },
    {
      "cell_type": "code",
      "execution_count": null,
      "metadata": {},
      "outputs": [],
      "source": [
        "SELECT *\n",
        "FROM renting\n",
        "WHERE date_renting BETWEEN '2018-01-01' AND '2018-12-31' -- Renting in 2018\n",
        "AND rating IS NOT NULL; -- Rating exists"
      ]
    },
    {
      "attachments": {},
      "cell_type": "markdown",
      "metadata": {},
      "source": [
        "Summarizing customer information"
      ]
    },
    {
      "cell_type": "code",
      "execution_count": null,
      "metadata": {},
      "outputs": [],
      "source": [
        "SELECT COUNT(*) -- Count the total number of customers\n",
        "FROM customers\n",
        "WHERE date_of_birth BETWEEN '1980-01-01' AND '1989-12-31'; -- Select customers born between 1980-01-01 and 1989-12-31"
      ]
    },
    {
      "cell_type": "code",
      "execution_count": null,
      "metadata": {},
      "outputs": [],
      "source": [
        "SELECT COUNT(*) -- Count the total number of customers\n",
        "FROM customers\n",
        "WHERE country = 'Germany'; -- Select all customers from Germany"
      ]
    },
    {
      "cell_type": "code",
      "execution_count": null,
      "metadata": {},
      "outputs": [],
      "source": [
        "SELECT COUNT(DISTINCT country) -- Count the number of countries\n",
        "FROM customers;"
      ]
    },
    {
      "attachments": {},
      "cell_type": "markdown",
      "metadata": {},
      "source": [
        "Ratings of movie 25"
      ]
    },
    {
      "cell_type": "code",
      "execution_count": null,
      "metadata": {},
      "outputs": [],
      "source": [
        "SELECT \n",
        "    MIN(rating) AS min_rating, -- Calculate the minimum rating and use alias min_rating\n",
        "    MAX(rating) AS max_rating, -- Calculate the maximum rating and use alias max_rating\n",
        "    AVG(rating) AS avg_rating, -- Calculate the average rating and use alias avg_rating\n",
        "    COUNT(rating) AS number_ratings -- Count the number of ratings and use alias number_ratings\n",
        "FROM renting\n",
        "WHERE movie_id = 25; -- Select all records of the movie with ID 25"
      ]
    },
    {
      "attachments": {},
      "cell_type": "markdown",
      "metadata": {},
      "source": [
        "Examining annual rentals"
      ]
    },
    {
      "cell_type": "code",
      "execution_count": null,
      "metadata": {},
      "outputs": [],
      "source": [
        "SELECT * -- Select all records of movie rentals since January 1st 2019\n",
        "FROM renting\n",
        "WHERE date_renting >= '2019-01-01'; "
      ]
    },
    {
      "cell_type": "code",
      "execution_count": null,
      "metadata": {},
      "outputs": [],
      "source": [
        "SELECT \n",
        "    COUNT(*), -- Count the total number of rented movies\n",
        "    AVG(rating) -- Add the average rating\n",
        "FROM renting\n",
        "WHERE date_renting >= '2019-01-01';"
      ]
    },
    {
      "cell_type": "code",
      "execution_count": null,
      "metadata": {},
      "outputs": [],
      "source": [
        "SELECT \n",
        "    COUNT(*) AS number_renting, -- Give it the column name number_renting\n",
        "    AVG(rating) AS average_rating  -- Give it the column name average_rating\n",
        "FROM renting\n",
        "WHERE date_renting >= '2019-01-01';"
      ]
    },
    {
      "cell_type": "code",
      "execution_count": null,
      "metadata": {},
      "outputs": [],
      "source": [
        "SELECT \n",
        "    COUNT(*) AS number_renting,\n",
        "    AVG(rating) AS average_rating, \n",
        "    COUNT(rating) AS number_ratings -- Add the total number of ratings here.\n",
        "FROM renting\n",
        "WHERE date_renting >= '2019-01-01';"
      ]
    }
  ],
  "metadata": {
    "kernelspec": {
      "display_name": "SQLite",
      "language": "sql",
      "name": "SQLite"
    },
    "language_info": {
      "codemirror_mode": "sql",
      "file_extension": "",
      "mimetype": "",
      "name": "sql",
      "version": "3.32.3"
    }
  },
  "nbformat": 4,
  "nbformat_minor": 4
}
