{
  "metadata": {
    "language_info": {
      "codemirror_mode": "sql",
      "file_extension": "",
      "mimetype": "",
      "name": "sql",
      "version": "3.32.3"
    },
    "kernelspec": {
      "name": "SQLite",
      "display_name": "SQLite",
      "language": "sql"
    }
  },
  "nbformat_minor": 4,
  "nbformat": 4,
  "cells": [
    {
      "cell_type": "markdown",
      "source": "Formatting dates",
      "metadata": {}
    },
    {
      "cell_type": "code",
      "source": "SELECT DISTINCT\n  -- Select the order date\n  order_date,\n  -- Format the order date\n  TO_CHAR(order_date,'FMDay DD, FMMonth YYYY') AS format_order_date\nFROM orders\nORDER BY order_date ASC\nLIMIT 3;",
      "metadata": {},
      "execution_count": null,
      "outputs": []
    },
    {
      "cell_type": "markdown",
      "source": "Rank users by their count of orders",
      "metadata": {}
    },
    {
      "cell_type": "code",
      "source": "SELECT\n  user_id,\n  COUNT(DISTINCT order_id) AS count_orders\nFROM orders\n-- Only keep orders in August 2018\nWHERE DATE_TRUNC('month', order_date) = '2018-08-01'\nGROUP BY user_id;",
      "metadata": {},
      "execution_count": null,
      "outputs": []
    },
    {
      "cell_type": "code",
      "source": "-- Set up the user_count_orders CTE\nWITH user_count_orders AS (\n  SELECT\n    user_id,\n    COUNT(DISTINCT order_id) AS count_orders\n  FROM orders\n  -- Only keep orders in August 2018\n  WHERE DATE_TRUNC('month', order_date) = '2018-08-01'\n  GROUP BY user_id)\n\nSELECT\n  -- Select user ID, and rank user ID by count_orders\n  user_id,\n  count_orders,\n  RANK() OVER (ORDER BY count_orders DESC) AS count_orders_rank\nFROM user_count_orders\nORDER BY count_orders_rank ASC\n-- Limit the user IDs selected to 3\nLIMIT 3;",
      "metadata": {},
      "execution_count": null,
      "outputs": []
    },
    {
      "cell_type": "markdown",
      "source": "Pivoting user revenues by month",
      "metadata": {}
    },
    {
      "cell_type": "code",
      "source": "-- Import tablefunc\nCREATE EXTENSION IF NOT EXISTS tablefunc;\n\nSELECT * FROM CROSSTAB($$\n  SELECT\n    user_id,\n    DATE_TRUNC('month', order_date) :: DATE AS delivr_month,\n    SUM(meal_price * order_quantity) :: FLOAT AS revenue\n  FROM meals\n  JOIN orders ON meals.meal_id = orders.meal_id\n WHERE user_id IN (0, 1, 2, 3, 4)\n   AND order_date < '2018-09-01'\n GROUP BY user_id, delivr_month\n ORDER BY user_id, delivr_month;\n$$)\n-- Select user ID and the months from June to August 2018\nAS ct (user_id INT,\n       \"2018-06-01\" FLOAT,\n       \"2018-07-01\" FLOAT,\n       \"2018-08-01\" FLOAT)\nORDER BY user_id ASC;",
      "metadata": {},
      "execution_count": null,
      "outputs": []
    },
    {
      "cell_type": "markdown",
      "source": "Costs",
      "metadata": {}
    },
    {
      "cell_type": "code",
      "source": "SELECT\n  -- Select eatery and calculate total cost\n  m.eatery,\n  DATE_TRUNC('month', stocking_date) :: DATE AS delivr_month,\n  SUM(m.meal_cost * s.stocked_quantity) :: FLOAT AS cost\nFROM meals AS m\nJOIN stock AS s \nON m.meal_id = s.meal_id\n-- Keep only the records after October 2018\nWHERE s.stocking_date > '2018-10-31'\nGROUP BY eatery, delivr_month\nORDER BY eatery, delivr_month;",
      "metadata": {},
      "execution_count": null,
      "outputs": []
    },
    {
      "cell_type": "code",
      "source": "-- Import tablefunc\nCREATE EXTENSION IF NOT EXISTS tablefunc;\n\nSELECT * FROM CROSSTAB($$\n  SELECT\n    -- Select eatery and calculate total cost\n    eatery,\n    DATE_TRUNC('month', stocking_date) :: DATE AS delivr_month,\n    SUM(meal_cost * stocked_quantity) :: FLOAT AS cost\n  FROM meals\n  JOIN stock ON meals.meal_id = stock.meal_id\n  -- Keep only the records after October 2018\n  WHERE DATE_TRUNC('month', stocking_date) > '2018-10-01'\n  GROUP BY eatery, delivr_month\n  ORDER BY eatery, delivr_month;\n$$)\n\n-- Select the eatery and November and December 2018 as columns\nAS ct (eatery TEXT,\n       \"2018-11-01\" FLOAT,\n       \"2018-12-01\" FLOAT)\nORDER BY eatery ASC;",
      "metadata": {},
      "execution_count": null,
      "outputs": []
    },
    {
      "cell_type": "markdown",
      "source": "Executive report",
      "metadata": {}
    },
    {
      "cell_type": "code",
      "source": "SELECT\n  eatery,\n  -- Format the order date so \"2018-06-01\" becomes \"Q2 2018\"\n  TO_CHAR(order_date, '\"Q\"Q YYYY') AS delivr_quarter,\n  -- Count unique users\n  COUNT(DISTINCT o.user_id) AS users\nFROM meals AS m\nINNER JOIN orders AS o \n  ON m.meal_id = o.meal_id\nGROUP BY eatery, delivr_quarter\nORDER BY delivr_quarter, users;",
      "metadata": {},
      "execution_count": null,
      "outputs": []
    },
    {
      "cell_type": "code",
      "source": "WITH eatery_users AS  (\n  SELECT\n    eatery,\n    -- Format the order date so \"2018-06-01\" becomes \"Q2 2018\"\n    TO_CHAR(order_date, '\"Q\"Q YYYY') AS delivr_quarter,\n    -- Count unique users\n    COUNT(DISTINCT user_id) AS users\n  FROM meals\n  JOIN orders ON meals.meal_id = orders.meal_id\n  GROUP BY eatery, delivr_quarter\n  ORDER BY delivr_quarter, users)\n\nSELECT\n  -- Select eatery and quarter\n  eatery,\n  delivr_quarter,\n  -- Rank rows, partition by quarter and order by users\n  RANK() OVER\n    (PARTITION BY delivr_quarter\n     ORDER BY users DESC) :: INT AS users_rank\nFROM eatery_users\nORDER BY delivr_quarter, users_rank;",
      "metadata": {},
      "execution_count": null,
      "outputs": []
    },
    {
      "cell_type": "code",
      "source": "-- Import tablefunc\nCREATE EXTENSION IF NOT EXISTS tablefunc;\n\n-- Pivot the previous query by quarter\nSELECT * FROM CROSSTAB($$\n  WITH eatery_users AS  (\n    SELECT\n      eatery,\n      -- Format the order date so \"2018-06-01\" becomes \"Q2 2018\"\n      TO_CHAR(order_date, '\"Q\"Q YYYY') AS delivr_quarter,\n      -- Count unique users\n      COUNT(DISTINCT user_id) AS users\n    FROM meals\n    JOIN orders ON meals.meal_id = orders.meal_id\n    GROUP BY eatery, delivr_quarter\n    ORDER BY delivr_quarter, users)\n\n  SELECT\n    -- Select eatery and quarter\n    eatery,\n    delivr_quarter,\n    -- Rank rows, partition by quarter and order by users\n    RANK() OVER\n      (PARTITION BY delivr_quarter\n       ORDER BY users DESC) :: INT AS users_rank\n  FROM eatery_users\n  ORDER BY eatery, delivr_quarter;\n$$)\n-- Select the columns of the pivoted table\nAS  ct (eatery TEXT,\n        \"Q2 2018\" INT,\n        \"Q3 2018\" INT,\n        \"Q4 2018\" INT)\nORDER BY \"Q4 2018\";",
      "metadata": {},
      "execution_count": null,
      "outputs": []
    }
  ]
}