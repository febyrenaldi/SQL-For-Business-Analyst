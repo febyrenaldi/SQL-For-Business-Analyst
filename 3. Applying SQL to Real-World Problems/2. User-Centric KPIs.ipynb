{
  "metadata": {
    "language_info": {
      "codemirror_mode": "sql",
      "file_extension": "",
      "mimetype": "",
      "name": "sql",
      "version": "3.32.3"
    },
    "kernelspec": {
      "name": "SQLite",
      "display_name": "SQLite",
      "language": "sql"
    }
  },
  "nbformat_minor": 4,
  "nbformat": 4,
  "cells": [
    {
      "cell_type": "markdown",
      "source": "User-Centric KPIs",
      "metadata": {}
    },
    {
      "cell_type": "code",
      "source": "SELECT\n  -- Get the earliest (minimum) order date by user ID\n  user_id,\n  MIN(order_date) AS reg_date\nFROM orders\nGROUP BY user_id\n-- Order by user ID\nORDER BY user_id ASC;",
      "metadata": {},
      "execution_count": null,
      "outputs": []
    },
    {
      "cell_type": "code",
      "source": "-- Wrap the query you wrote in a CTE named reg_dates\nWITH reg_dates AS (\n  SELECT\n    user_id,\n    MIN(order_date) AS reg_date\n  FROM orders\n  GROUP BY user_id)\n\nSELECT\n  -- Count the unique user IDs by registration month\n  DATE_TRUNC('month', reg_date) :: DATE AS delivr_month,\n  COUNT(DISTINCT user_id) AS regs\nFROM reg_dates\nGROUP BY delivr_month\nORDER BY delivr_month ASC; ",
      "metadata": {},
      "execution_count": null,
      "outputs": []
    },
    {
      "cell_type": "markdown",
      "source": "Monthly active users (MAU)",
      "metadata": {}
    },
    {
      "cell_type": "code",
      "source": "SELECT\n  -- Truncate the order date to the nearest month\n  DATE_TRUNC('month', order_date) :: DATE AS delivr_month,\n  -- Count the unique user IDs\n  COUNT(DISTINCT user_id) AS mau\nFROM orders\nGROUP BY delivr_month\n-- Order by month\nORDER BY delivr_month ASC;",
      "metadata": {},
      "execution_count": null,
      "outputs": []
    },
    {
      "cell_type": "markdown",
      "source": "Registrations running total",
      "metadata": {}
    },
    {
      "cell_type": "code",
      "source": "WITH reg_dates AS (\n  SELECT\n    user_id,\n    MIN(order_date) AS reg_date\n  FROM orders\n  GROUP BY user_id)\n\nSELECT\n  -- Select the month and the registrations\n  DATE_TRUNC('month', reg_date) :: DATE AS delivr_month,\n  COUNT(DISTINCT user_id) AS regs\nFROM reg_dates\nGROUP BY delivr_month\n-- Order by month in ascending order\nORDER BY delivr_month; ",
      "metadata": {},
      "execution_count": null,
      "outputs": []
    },
    {
      "cell_type": "code",
      "source": "WITH reg_dates AS (\n  SELECT\n    user_id,\n    MIN(order_date) AS reg_date\n  FROM orders\n  GROUP BY user_id),\n\nregs AS (\n  SELECT\n    DATE_TRUNC('month', reg_date) :: DATE AS delivr_month,\n    COUNT(DISTINCT user_id) AS regs\n  FROM reg_dates\n  GROUP BY delivr_month)\n\nSELECT\n  -- Calculate the registrations running total by month\n  delivr_month,\n  SUM(regs) OVER (ORDER BY delivr_month ASC) AS regs_rt\nFROM regs\n-- Order by month in ascending order\nORDER BY delivr_month ASC; ",
      "metadata": {},
      "execution_count": null,
      "outputs": []
    },
    {
      "cell_type": "markdown",
      "source": "MAU monitor (I)",
      "metadata": {}
    },
    {
      "cell_type": "code",
      "source": "WITH mau AS (\n  SELECT\n    DATE_TRUNC('month', order_date) :: DATE AS delivr_month,\n    COUNT(DISTINCT user_id) AS mau\n  FROM orders\n  GROUP BY delivr_month)\n\nSELECT\n  -- Select the month and the MAU\n  delivr_month,\n  mau,\n  COALESCE(\n    LAG(mau) OVER(ORDER BY delivr_month ASC),\n  0) AS last_mau\nFROM mau\n-- Order by month in ascending order\nORDER BY delivr_month ASC;",
      "metadata": {},
      "execution_count": null,
      "outputs": []
    },
    {
      "cell_type": "markdown",
      "source": "MAU monitor (II)",
      "metadata": {}
    },
    {
      "cell_type": "code",
      "source": "WITH mau AS (\n  SELECT\n    DATE_TRUNC('month', order_date) :: DATE AS delivr_month,\n    COUNT(DISTINCT user_id) AS mau\n  FROM orders\n  GROUP BY delivr_month),\n\n  mau_with_lag AS (\n  SELECT\n    delivr_month,\n    mau,\n    -- Fetch the previous month's MAU\n    COALESCE(\n      LAG(mau) OVER (ORDER BY delivr_month ASC),\n    0) AS last_mau\n  FROM mau)\n\nSELECT\n  -- Calculate each month's delta of MAUs\n  delivr_month,\n  mau - last_mau AS mau_delta\nFROM mau_with_lag\n-- Order by month in ascending order\nORDER BY delivr_month ASC;",
      "metadata": {},
      "execution_count": null,
      "outputs": []
    },
    {
      "cell_type": "markdown",
      "source": "MAU monitor (III)",
      "metadata": {}
    },
    {
      "cell_type": "code",
      "source": "WITH mau AS (\n  SELECT\n    DATE_TRUNC('month', order_date) :: DATE AS delivr_month,\n    COUNT(DISTINCT user_id) AS mau\n  FROM orders\n  GROUP BY delivr_month),\n\n  mau_with_lag AS (\n  SELECT\n    delivr_month,\n    mau,\n    GREATEST(\n      LAG(mau) OVER (ORDER BY delivr_month ASC),\n    1) AS last_mau\n  FROM mau)\n\nSELECT\n  -- Calculate the MoM MAU growth rates\n  delivr_month,\n  ROUND(\n    (mau - last_mau)/last_mau :: NUMERIC,\n  2) AS growth\nFROM mau_with_lag\n-- Order by month in ascending order\nORDER BY delivr_month;",
      "metadata": {},
      "execution_count": null,
      "outputs": []
    },
    {
      "cell_type": "markdown",
      "source": "Order growth rate",
      "metadata": {}
    },
    {
      "cell_type": "code",
      "source": "WITH orders AS (\n  SELECT\n    DATE_TRUNC('month', order_date) :: DATE AS delivr_month,\n    --  Count the unique order IDs\n    COUNT(DISTINCT order_id) AS orders\n  FROM orders\n  GROUP BY delivr_month),\n\n  orders_with_lag AS (\n  SELECT\n    delivr_month,\n    -- Fetch each month's current and previous orders\n    orders,\n    COALESCE(\n      LAG(orders) OVER (ORDER BY delivr_month ASC),\n    1) AS last_orders\n  FROM orders)\n\nSELECT\n  delivr_month,\n  -- Calculate the MoM order growth rate\n  ROUND(\n    (orders - last_orders) :: NUMERIC / last_orders,\n  2) AS growth\nFROM orders_with_lag\nORDER BY delivr_month ASC;",
      "metadata": {},
      "execution_count": null,
      "outputs": []
    },
    {
      "cell_type": "markdown",
      "source": "Retention rate",
      "metadata": {}
    },
    {
      "cell_type": "code",
      "source": "WITH user_monthly_activity AS (\n  SELECT DISTINCT\n    DATE_TRUNC('month', order_date) :: DATE AS delivr_month,\n    user_id\n  FROM orders)\n\nSELECT\n  -- Calculate the MoM retention rates\n  previous.delivr_month,\n  ROUND(\n    COUNT(DISTINCT current.user_id) :: NUMERIC /\n    GREATEST(COUNT(DISTINCT previous.user_id), 1),\n  2) AS retention_rate\nFROM user_monthly_activity AS previous\nLEFT JOIN user_monthly_activity AS current\n-- Fill in the user and month join conditions\nON previous.user_id = current.user_id\nAND previous.delivr_month = (current.delivr_month - INTERVAL '1 month')\nGROUP BY previous.delivr_month\nORDER BY previous.delivr_month ASC;",
      "metadata": {},
      "execution_count": null,
      "outputs": []
    }
  ]
}